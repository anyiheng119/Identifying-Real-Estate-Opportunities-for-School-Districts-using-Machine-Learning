{
 "cells": [
  {
   "cell_type": "code",
   "execution_count": 2,
   "metadata": {
    "id": "5AOvTFsG4gjj"
   },
   "outputs": [],
   "source": [
    "# Data manipulation\n",
    "import pandas as pd\n",
    "import numpy as np\n",
    "\n",
    "# Data Viz\n",
    "import seaborn as sns\n",
    "import matplotlib.pyplot as plt\n",
    "%matplotlib inline\n",
    "\n",
    "# More Data Preprocessing & Machine Learning\n",
    "from sklearn.model_selection import train_test_split\n",
    "\n",
    "import warnings\n",
    "warnings.filterwarnings('ignore') "
   ]
  },
  {
   "cell_type": "markdown",
   "metadata": {
    "id": "26i1lAc7iutl"
   },
   "source": [
    "## Import parcels data"
   ]
  },
  {
   "cell_type": "code",
   "execution_count": null,
   "metadata": {
    "id": "8w8ZFYF34hjy"
   },
   "outputs": [],
   "source": [
    "df0 = pd.read_csv('https://dev.km2.ai/public/parcels_last.csv', low_memory=False)"
   ]
  },
  {
   "cell_type": "code",
   "execution_count": null,
   "metadata": {
    "colab": {
     "base_uri": "https://localhost:8080/"
    },
    "id": "TE8B-eHC4yHF",
    "outputId": "5b069bd9-641a-4de5-ff8a-960b46aed67e"
   },
   "outputs": [
    {
     "data": {
      "text/plain": [
       "(2485732, 55)"
      ]
     },
     "execution_count": 3,
     "metadata": {},
     "output_type": "execute_result"
    }
   ],
   "source": [
    "df0.shape"
   ]
  },
  {
   "cell_type": "code",
   "execution_count": null,
   "metadata": {
    "id": "6TIpdnL140J4"
   },
   "outputs": [],
   "source": [
    "# initial cleaning\n",
    "df = df0[df0['YearBuilt']>=1900]\n",
    "df = df[df['GeneralUseType']=='Residential']\n",
    "df = df[df['zip2'].notna()]\n",
    "df = df[df['TotalValue']>0]\n",
    "df = df[df['SQFTmain']>0]"
   ]
  },
  {
   "cell_type": "code",
   "execution_count": null,
   "metadata": {
    "id": "NR1PYhbq40MU"
   },
   "outputs": [],
   "source": [
    "# calculate price per square foot for properties which have non-zero prices and sizes\n",
    "df['price_sf'] = df['TotalValue'] / df['SQFTmain']"
   ]
  },
  {
   "cell_type": "code",
   "execution_count": null,
   "metadata": {
    "id": "VA9HlEsd6n3l"
   },
   "outputs": [],
   "source": [
    "df = df.drop(['geo','Location1','ParcelBoundaryDescription','UnitNo','StreetName','HouseNo',\n",
    "              'HouseFraction','StreetDirection','SpecificUseDetail1','SpecificUseDetail2'], axis = 1)"
   ]
  },
  {
   "cell_type": "code",
   "execution_count": null,
   "metadata": {
    "id": "0QUj3MpdICLH"
   },
   "outputs": [],
   "source": [
    "df = df.drop(['SpecialParcelClassification','ZIPcode5','TaxRateArea_CITY','TaxRateArea',\n",
    "              'PropertyUseCode','rowID','GeneralUseType','ZIPcode'], axis = 1)"
   ]
  },
  {
   "cell_type": "code",
   "execution_count": null,
   "metadata": {
    "id": "lYRx4fm7IpKI"
   },
   "outputs": [],
   "source": [
    "df = df.drop_duplicates()"
   ]
  },
  {
   "cell_type": "code",
   "execution_count": null,
   "metadata": {
    "colab": {
     "base_uri": "https://localhost:8080/"
    },
    "id": "rH_J6gK06-d5",
    "outputId": "ad26f69e-ef92-4de1-a016-e1bfa903305f"
   },
   "outputs": [
    {
     "data": {
      "text/plain": [
       "(2053780, 38)"
      ]
     },
     "execution_count": 49,
     "metadata": {},
     "output_type": "execute_result"
    }
   ],
   "source": [
    "df.shape"
   ]
  },
  {
   "cell_type": "markdown",
   "metadata": {
    "id": "eexLeAqyimyF"
   },
   "source": [
    "## Calculate distance"
   ]
  },
  {
   "cell_type": "code",
   "execution_count": null,
   "metadata": {
    "id": "Ay9PMqnp8Plc"
   },
   "outputs": [],
   "source": [
    "# TO DO: calculate distance to UCLA\n",
    "ucla = {'lat':34.069444, 'lon':-118.445278}\n",
    "\n",
    "from geopy.distance import geodesic\n",
    "def calc_distance_to_ucla(row):\n",
    "    p1 = (ucla.get('lat'), ucla.get('lon'))\n",
    "    p2 = (row['CENTER_LAT'], row['CENTER_LON'])\n",
    "    return geodesic(p1, p2).miles\n",
    "\n",
    "df['distance_to_ucla'] = df.apply(calc_distance_to_ucla, axis=1)"
   ]
  },
  {
   "cell_type": "code",
   "execution_count": null,
   "metadata": {
    "id": "yVq3xGj_BWJ1"
   },
   "outputs": [],
   "source": [
    "# TO DO: calculate distance to USC\n",
    "usc = {'lat':34.0223519, 'lon':-118.285117}\n",
    "\n",
    "def calc_distance_to_usc(row):\n",
    "    p1 = (usc.get('lat'), usc.get('lon'))\n",
    "    p2 = (row['CENTER_LAT'], row['CENTER_LON'])\n",
    "    return geodesic(p1, p2).miles\n",
    "\n",
    "df['distance_to_usc'] = df.apply(calc_distance_to_usc, axis=1)"
   ]
  },
  {
   "cell_type": "code",
   "execution_count": null,
   "metadata": {
    "id": "davX7bqS8Pod"
   },
   "outputs": [],
   "source": [
    "# TO DO: create school distrit datasets\n",
    "df_usc = df[df['distance_to_usc']<3]\n",
    "df_ucla = df[df['distance_to_ucla']<3]"
   ]
  },
  {
   "cell_type": "code",
   "execution_count": null,
   "metadata": {
    "id": "ATw__oH-NisR"
   },
   "outputs": [],
   "source": [
    "df_ucla.to_csv('parcels_ucla.csv')\n",
    "df_usc.to_csv('parcels_usc.csv')"
   ]
  },
  {
   "cell_type": "markdown",
   "metadata": {
    "id": "upjkjBHellTy"
   },
   "source": [
    "## Wrangle the school-based data"
   ]
  },
  {
   "cell_type": "code",
   "execution_count": 3,
   "metadata": {
    "id": "o7fAOFBgb9Ht"
   },
   "outputs": [],
   "source": [
    "df_ucla = pd.read_csv('/content/drive/MyDrive/econ445/parcels_ucla.csv', low_memory=False)\n",
    "zillow_ucla = pd.read_csv('/content/drive/MyDrive/econ445/zillow_ucla.csv', low_memory=False)"
   ]
  },
  {
   "cell_type": "code",
   "execution_count": 4,
   "metadata": {
    "id": "aq99KLOFXMco"
   },
   "outputs": [],
   "source": [
    "df_usc = pd.read_csv('/content/drive/MyDrive/econ445/parcels_usc.csv', low_memory=False)\n",
    "zillow_usc = pd.read_csv('/content/drive/MyDrive/econ445/zillow_usc.csv', low_memory=False)"
   ]
  },
  {
   "cell_type": "code",
   "execution_count": 6,
   "metadata": {
    "id": "Fv9ptAteTcAV"
   },
   "outputs": [],
   "source": [
    "#TO DO: filter roll year for proper merge\n",
    "df_ucla = df_ucla[df_ucla['RollYear']>=2013]\n",
    "df_usc = df_usc[df_usc['RollYear']>=2013]"
   ]
  },
  {
   "cell_type": "code",
   "execution_count": 8,
   "metadata": {
    "colab": {
     "base_uri": "https://localhost:8080/",
     "height": 206
    },
    "id": "DHy-BDUzjrSG",
    "outputId": "ac937303-608f-4d09-9e18-c61b6aa1c689"
   },
   "outputs": [
    {
     "data": {
      "text/html": [
       "\n",
       "  <div id=\"df-1af981f1-69c6-49ed-a0f9-87127f5f8dae\">\n",
       "    <div class=\"colab-df-container\">\n",
       "      <div>\n",
       "<style scoped>\n",
       "    .dataframe tbody tr th:only-of-type {\n",
       "        vertical-align: middle;\n",
       "    }\n",
       "\n",
       "    .dataframe tbody tr th {\n",
       "        vertical-align: top;\n",
       "    }\n",
       "\n",
       "    .dataframe thead th {\n",
       "        text-align: right;\n",
       "    }\n",
       "</style>\n",
       "<table border=\"1\" class=\"dataframe\">\n",
       "  <thead>\n",
       "    <tr style=\"text-align: right;\">\n",
       "      <th></th>\n",
       "      <th>zip2</th>\n",
       "      <th>RollYear</th>\n",
       "      <th>ZHVI</th>\n",
       "    </tr>\n",
       "  </thead>\n",
       "  <tbody>\n",
       "    <tr>\n",
       "      <th>0</th>\n",
       "      <td>90017</td>\n",
       "      <td>2021</td>\n",
       "      <td>684000</td>\n",
       "    </tr>\n",
       "    <tr>\n",
       "      <th>1</th>\n",
       "      <td>90022</td>\n",
       "      <td>2021</td>\n",
       "      <td>529000</td>\n",
       "    </tr>\n",
       "    <tr>\n",
       "      <th>2</th>\n",
       "      <td>90024</td>\n",
       "      <td>2013</td>\n",
       "      <td>908000</td>\n",
       "    </tr>\n",
       "    <tr>\n",
       "      <th>3</th>\n",
       "      <td>90024</td>\n",
       "      <td>2014</td>\n",
       "      <td>1080000</td>\n",
       "    </tr>\n",
       "    <tr>\n",
       "      <th>4</th>\n",
       "      <td>90024</td>\n",
       "      <td>2015</td>\n",
       "      <td>1100000</td>\n",
       "    </tr>\n",
       "  </tbody>\n",
       "</table>\n",
       "</div>\n",
       "      <button class=\"colab-df-convert\" onclick=\"convertToInteractive('df-1af981f1-69c6-49ed-a0f9-87127f5f8dae')\"\n",
       "              title=\"Convert this dataframe to an interactive table.\"\n",
       "              style=\"display:none;\">\n",
       "        \n",
       "  <svg xmlns=\"http://www.w3.org/2000/svg\" height=\"24px\"viewBox=\"0 0 24 24\"\n",
       "       width=\"24px\">\n",
       "    <path d=\"M0 0h24v24H0V0z\" fill=\"none\"/>\n",
       "    <path d=\"M18.56 5.44l.94 2.06.94-2.06 2.06-.94-2.06-.94-.94-2.06-.94 2.06-2.06.94zm-11 1L8.5 8.5l.94-2.06 2.06-.94-2.06-.94L8.5 2.5l-.94 2.06-2.06.94zm10 10l.94 2.06.94-2.06 2.06-.94-2.06-.94-.94-2.06-.94 2.06-2.06.94z\"/><path d=\"M17.41 7.96l-1.37-1.37c-.4-.4-.92-.59-1.43-.59-.52 0-1.04.2-1.43.59L10.3 9.45l-7.72 7.72c-.78.78-.78 2.05 0 2.83L4 21.41c.39.39.9.59 1.41.59.51 0 1.02-.2 1.41-.59l7.78-7.78 2.81-2.81c.8-.78.8-2.07 0-2.86zM5.41 20L4 18.59l7.72-7.72 1.47 1.35L5.41 20z\"/>\n",
       "  </svg>\n",
       "      </button>\n",
       "      \n",
       "  <style>\n",
       "    .colab-df-container {\n",
       "      display:flex;\n",
       "      flex-wrap:wrap;\n",
       "      gap: 12px;\n",
       "    }\n",
       "\n",
       "    .colab-df-convert {\n",
       "      background-color: #E8F0FE;\n",
       "      border: none;\n",
       "      border-radius: 50%;\n",
       "      cursor: pointer;\n",
       "      display: none;\n",
       "      fill: #1967D2;\n",
       "      height: 32px;\n",
       "      padding: 0 0 0 0;\n",
       "      width: 32px;\n",
       "    }\n",
       "\n",
       "    .colab-df-convert:hover {\n",
       "      background-color: #E2EBFA;\n",
       "      box-shadow: 0px 1px 2px rgba(60, 64, 67, 0.3), 0px 1px 3px 1px rgba(60, 64, 67, 0.15);\n",
       "      fill: #174EA6;\n",
       "    }\n",
       "\n",
       "    [theme=dark] .colab-df-convert {\n",
       "      background-color: #3B4455;\n",
       "      fill: #D2E3FC;\n",
       "    }\n",
       "\n",
       "    [theme=dark] .colab-df-convert:hover {\n",
       "      background-color: #434B5C;\n",
       "      box-shadow: 0px 1px 3px 1px rgba(0, 0, 0, 0.15);\n",
       "      filter: drop-shadow(0px 1px 2px rgba(0, 0, 0, 0.3));\n",
       "      fill: #FFFFFF;\n",
       "    }\n",
       "  </style>\n",
       "\n",
       "      <script>\n",
       "        const buttonEl =\n",
       "          document.querySelector('#df-1af981f1-69c6-49ed-a0f9-87127f5f8dae button.colab-df-convert');\n",
       "        buttonEl.style.display =\n",
       "          google.colab.kernel.accessAllowed ? 'block' : 'none';\n",
       "\n",
       "        async function convertToInteractive(key) {\n",
       "          const element = document.querySelector('#df-1af981f1-69c6-49ed-a0f9-87127f5f8dae');\n",
       "          const dataTable =\n",
       "            await google.colab.kernel.invokeFunction('convertToInteractive',\n",
       "                                                     [key], {});\n",
       "          if (!dataTable) return;\n",
       "\n",
       "          const docLinkHtml = 'Like what you see? Visit the ' +\n",
       "            '<a target=\"_blank\" href=https://colab.research.google.com/notebooks/data_table.ipynb>data table notebook</a>'\n",
       "            + ' to learn more about interactive tables.';\n",
       "          element.innerHTML = '';\n",
       "          dataTable['output_type'] = 'display_data';\n",
       "          await google.colab.output.renderOutput(dataTable, element);\n",
       "          const docLink = document.createElement('div');\n",
       "          docLink.innerHTML = docLinkHtml;\n",
       "          element.appendChild(docLink);\n",
       "        }\n",
       "      </script>\n",
       "    </div>\n",
       "  </div>\n",
       "  "
      ],
      "text/plain": [
       "    zip2  RollYear     ZHVI\n",
       "0  90017      2021   684000\n",
       "1  90022      2021   529000\n",
       "2  90024      2013   908000\n",
       "3  90024      2014  1080000\n",
       "4  90024      2015  1100000"
      ]
     },
     "execution_count": 8,
     "metadata": {},
     "output_type": "execute_result"
    }
   ],
   "source": [
    "zillow_ucla.head()"
   ]
  },
  {
   "cell_type": "code",
   "execution_count": 10,
   "metadata": {
    "id": "TJN7e-uTjmi6"
   },
   "outputs": [],
   "source": [
    "#TO DO: merge parcels data and zillow data by zip code and roll year\n",
    "df_ucla_new = pd.merge(df_ucla, zillow_ucla, on=['zip2','RollYear'])\n",
    "df_ucla_new = df_ucla_new.drop('Unnamed: 0', axis=1)"
   ]
  },
  {
   "cell_type": "code",
   "execution_count": 12,
   "metadata": {
    "id": "fBrfREJnjyyp"
   },
   "outputs": [],
   "source": [
    "df_usc_new = pd.merge(df_usc, zillow_usc, on=['zip2','RollYear'])\n",
    "df_usc_new = df_usc_new.drop('Unnamed: 0', axis=1)"
   ]
  },
  {
   "cell_type": "code",
   "execution_count": 13,
   "metadata": {
    "id": "Ucrttnf1k59_"
   },
   "outputs": [],
   "source": [
    "# TO DO: merge two schools data by row\n",
    "df = pd.concat([df_ucla_new,df_usc_new], axis=0)"
   ]
  },
  {
   "cell_type": "code",
   "execution_count": 15,
   "metadata": {
    "colab": {
     "base_uri": "https://localhost:8080/",
     "height": 461
    },
    "id": "HUMtmpixk7uv",
    "outputId": "c2ac43ab-4848-4c2c-ea9c-ae6fbe14b585"
   },
   "outputs": [
    {
     "data": {
      "text/html": [
       "\n",
       "  <div id=\"df-95e01a8f-3aa7-49d2-91eb-7adac9d4e444\">\n",
       "    <div class=\"colab-df-container\">\n",
       "      <div>\n",
       "<style scoped>\n",
       "    .dataframe tbody tr th:only-of-type {\n",
       "        vertical-align: middle;\n",
       "    }\n",
       "\n",
       "    .dataframe tbody tr th {\n",
       "        vertical-align: top;\n",
       "    }\n",
       "\n",
       "    .dataframe thead th {\n",
       "        text-align: right;\n",
       "    }\n",
       "</style>\n",
       "<table border=\"1\" class=\"dataframe\">\n",
       "  <thead>\n",
       "    <tr style=\"text-align: right;\">\n",
       "      <th></th>\n",
       "      <th>id</th>\n",
       "      <th>AIN</th>\n",
       "      <th>RollYear</th>\n",
       "      <th>AssessorID</th>\n",
       "      <th>PropertyLocation</th>\n",
       "      <th>PropertyType</th>\n",
       "      <th>SpecificUseType</th>\n",
       "      <th>totBuildingDataLines</th>\n",
       "      <th>YearBuilt</th>\n",
       "      <th>EffectiveYearBuilt</th>\n",
       "      <th>SQFTmain</th>\n",
       "      <th>Bedrooms</th>\n",
       "      <th>Bathrooms</th>\n",
       "      <th>Units</th>\n",
       "      <th>RecordingDate</th>\n",
       "      <th>LandValue</th>\n",
       "      <th>LandBaseYear</th>\n",
       "      <th>ImprovementValue</th>\n",
       "      <th>ImpBaseYear</th>\n",
       "      <th>TotalLandImpValue</th>\n",
       "      <th>HomeownersExemption</th>\n",
       "      <th>RealEstateExemption</th>\n",
       "      <th>FixtureValue</th>\n",
       "      <th>FixtureExemption</th>\n",
       "      <th>PersonalPropertyValue</th>\n",
       "      <th>PersonalPropertyExemption</th>\n",
       "      <th>isTaxableParcel</th>\n",
       "      <th>TotalValue</th>\n",
       "      <th>TotalExemption</th>\n",
       "      <th>netTaxableValue</th>\n",
       "      <th>AdministrativeRegion</th>\n",
       "      <th>Cluster</th>\n",
       "      <th>City</th>\n",
       "      <th>CENTER_LAT</th>\n",
       "      <th>CENTER_LON</th>\n",
       "      <th>RecordingDateYear</th>\n",
       "      <th>zip2</th>\n",
       "      <th>price_sf</th>\n",
       "      <th>distance_to_ucla</th>\n",
       "      <th>distance_to_usc</th>\n",
       "      <th>ZHVI</th>\n",
       "    </tr>\n",
       "  </thead>\n",
       "  <tbody>\n",
       "    <tr>\n",
       "      <th>0</th>\n",
       "      <td>5886183</td>\n",
       "      <td>5001026010</td>\n",
       "      <td>2020</td>\n",
       "      <td>5001-026-010</td>\n",
       "      <td>5310 S HOOVER ST  LOS ANGELES CA  90037</td>\n",
       "      <td>SFR</td>\n",
       "      <td>Single Family Residence</td>\n",
       "      <td>1</td>\n",
       "      <td>1914</td>\n",
       "      <td>1914</td>\n",
       "      <td>1088</td>\n",
       "      <td>2</td>\n",
       "      <td>2</td>\n",
       "      <td>1</td>\n",
       "      <td>20140918</td>\n",
       "      <td>164838.0</td>\n",
       "      <td>2015</td>\n",
       "      <td>54945.0</td>\n",
       "      <td>2015</td>\n",
       "      <td>219783.0</td>\n",
       "      <td>0.0</td>\n",
       "      <td>0.0</td>\n",
       "      <td>0.0</td>\n",
       "      <td>0.0</td>\n",
       "      <td>0.0</td>\n",
       "      <td>0.0</td>\n",
       "      <td>Y</td>\n",
       "      <td>219783.0</td>\n",
       "      <td>0.0</td>\n",
       "      <td>219783.0</td>\n",
       "      <td>9</td>\n",
       "      <td>9110</td>\n",
       "      <td>LOS ANGELES CA</td>\n",
       "      <td>33.993784</td>\n",
       "      <td>-118.286727</td>\n",
       "      <td>2014</td>\n",
       "      <td>90037.0</td>\n",
       "      <td>202.006434</td>\n",
       "      <td>10.486841</td>\n",
       "      <td>1.971209</td>\n",
       "      <td>521000</td>\n",
       "    </tr>\n",
       "    <tr>\n",
       "      <th>1</th>\n",
       "      <td>5898370</td>\n",
       "      <td>5018026017</td>\n",
       "      <td>2020</td>\n",
       "      <td>5018-026-017</td>\n",
       "      <td>700 W 47TH ST  LOS ANGELES CA  90037</td>\n",
       "      <td>R-I</td>\n",
       "      <td>Four Units  (Any Combination)</td>\n",
       "      <td>2</td>\n",
       "      <td>2019</td>\n",
       "      <td>2019</td>\n",
       "      <td>6041</td>\n",
       "      <td>19</td>\n",
       "      <td>12</td>\n",
       "      <td>4</td>\n",
       "      <td>20190513</td>\n",
       "      <td>1173000.0</td>\n",
       "      <td>2019</td>\n",
       "      <td>1051620.0</td>\n",
       "      <td>2019</td>\n",
       "      <td>2224620.0</td>\n",
       "      <td>0.0</td>\n",
       "      <td>0.0</td>\n",
       "      <td>0.0</td>\n",
       "      <td>0.0</td>\n",
       "      <td>0.0</td>\n",
       "      <td>0.0</td>\n",
       "      <td>Y</td>\n",
       "      <td>2224620.0</td>\n",
       "      <td>0.0</td>\n",
       "      <td>2224620.0</td>\n",
       "      <td>9</td>\n",
       "      <td>9401</td>\n",
       "      <td>LOS ANGELES CA</td>\n",
       "      <td>34.000340</td>\n",
       "      <td>-118.285650</td>\n",
       "      <td>2019</td>\n",
       "      <td>90037.0</td>\n",
       "      <td>368.253600</td>\n",
       "      <td>10.324066</td>\n",
       "      <td>1.517481</td>\n",
       "      <td>521000</td>\n",
       "    </tr>\n",
       "    <tr>\n",
       "      <th>2</th>\n",
       "      <td>5900340</td>\n",
       "      <td>5021011018</td>\n",
       "      <td>2020</td>\n",
       "      <td>5021-011-018</td>\n",
       "      <td>4238 S HARVARD BLVD  LOS ANGELES CA  90062</td>\n",
       "      <td>R-I</td>\n",
       "      <td>Double, Duplex, or Two Units</td>\n",
       "      <td>2</td>\n",
       "      <td>1913</td>\n",
       "      <td>1927</td>\n",
       "      <td>2085</td>\n",
       "      <td>3</td>\n",
       "      <td>3</td>\n",
       "      <td>2</td>\n",
       "      <td>20050428</td>\n",
       "      <td>30303.0</td>\n",
       "      <td>1976</td>\n",
       "      <td>25471.0</td>\n",
       "      <td>1976</td>\n",
       "      <td>55774.0</td>\n",
       "      <td>0.0</td>\n",
       "      <td>0.0</td>\n",
       "      <td>0.0</td>\n",
       "      <td>0.0</td>\n",
       "      <td>0.0</td>\n",
       "      <td>0.0</td>\n",
       "      <td>Y</td>\n",
       "      <td>55774.0</td>\n",
       "      <td>0.0</td>\n",
       "      <td>55774.0</td>\n",
       "      <td>9</td>\n",
       "      <td>9401</td>\n",
       "      <td>LOS ANGELES CA</td>\n",
       "      <td>34.006229</td>\n",
       "      <td>-118.306436</td>\n",
       "      <td>2005</td>\n",
       "      <td>90062.0</td>\n",
       "      <td>26.750120</td>\n",
       "      <td>9.080358</td>\n",
       "      <td>1.652903</td>\n",
       "      <td>600000</td>\n",
       "    </tr>\n",
       "    <tr>\n",
       "      <th>3</th>\n",
       "      <td>5911752</td>\n",
       "      <td>5042028005</td>\n",
       "      <td>2020</td>\n",
       "      <td>5042-028-005</td>\n",
       "      <td>1816 W 35TH PL  LOS ANGELES CA  90018</td>\n",
       "      <td>SFR</td>\n",
       "      <td>Single Family Residence</td>\n",
       "      <td>1</td>\n",
       "      <td>1923</td>\n",
       "      <td>1923</td>\n",
       "      <td>832</td>\n",
       "      <td>2</td>\n",
       "      <td>1</td>\n",
       "      <td>1</td>\n",
       "      <td>20081113</td>\n",
       "      <td>24688.0</td>\n",
       "      <td>1978</td>\n",
       "      <td>12438.0</td>\n",
       "      <td>1978</td>\n",
       "      <td>37126.0</td>\n",
       "      <td>0.0</td>\n",
       "      <td>0.0</td>\n",
       "      <td>0.0</td>\n",
       "      <td>0.0</td>\n",
       "      <td>0.0</td>\n",
       "      <td>0.0</td>\n",
       "      <td>Y</td>\n",
       "      <td>37126.0</td>\n",
       "      <td>0.0</td>\n",
       "      <td>37126.0</td>\n",
       "      <td>9</td>\n",
       "      <td>9172</td>\n",
       "      <td>LOS ANGELES CA</td>\n",
       "      <td>34.023397</td>\n",
       "      <td>-118.312577</td>\n",
       "      <td>2008</td>\n",
       "      <td>90018.0</td>\n",
       "      <td>44.622596</td>\n",
       "      <td>8.248579</td>\n",
       "      <td>1.577596</td>\n",
       "      <td>767000</td>\n",
       "    </tr>\n",
       "    <tr>\n",
       "      <th>4</th>\n",
       "      <td>5914759</td>\n",
       "      <td>5042028006</td>\n",
       "      <td>2020</td>\n",
       "      <td>5042-028-006</td>\n",
       "      <td>1814 W 35TH PL  LOS ANGELES CA  90018</td>\n",
       "      <td>SFR</td>\n",
       "      <td>Single Family Residence</td>\n",
       "      <td>1</td>\n",
       "      <td>1923</td>\n",
       "      <td>1923</td>\n",
       "      <td>832</td>\n",
       "      <td>2</td>\n",
       "      <td>1</td>\n",
       "      <td>1</td>\n",
       "      <td>20081113</td>\n",
       "      <td>17011.0</td>\n",
       "      <td>1975</td>\n",
       "      <td>8263.0</td>\n",
       "      <td>1975</td>\n",
       "      <td>25274.0</td>\n",
       "      <td>0.0</td>\n",
       "      <td>0.0</td>\n",
       "      <td>0.0</td>\n",
       "      <td>0.0</td>\n",
       "      <td>0.0</td>\n",
       "      <td>0.0</td>\n",
       "      <td>Y</td>\n",
       "      <td>25274.0</td>\n",
       "      <td>0.0</td>\n",
       "      <td>25274.0</td>\n",
       "      <td>9</td>\n",
       "      <td>9172</td>\n",
       "      <td>LOS ANGELES CA</td>\n",
       "      <td>34.023397</td>\n",
       "      <td>-118.312465</td>\n",
       "      <td>2008</td>\n",
       "      <td>90018.0</td>\n",
       "      <td>30.377404</td>\n",
       "      <td>8.254516</td>\n",
       "      <td>1.571165</td>\n",
       "      <td>767000</td>\n",
       "    </tr>\n",
       "  </tbody>\n",
       "</table>\n",
       "</div>\n",
       "      <button class=\"colab-df-convert\" onclick=\"convertToInteractive('df-95e01a8f-3aa7-49d2-91eb-7adac9d4e444')\"\n",
       "              title=\"Convert this dataframe to an interactive table.\"\n",
       "              style=\"display:none;\">\n",
       "        \n",
       "  <svg xmlns=\"http://www.w3.org/2000/svg\" height=\"24px\"viewBox=\"0 0 24 24\"\n",
       "       width=\"24px\">\n",
       "    <path d=\"M0 0h24v24H0V0z\" fill=\"none\"/>\n",
       "    <path d=\"M18.56 5.44l.94 2.06.94-2.06 2.06-.94-2.06-.94-.94-2.06-.94 2.06-2.06.94zm-11 1L8.5 8.5l.94-2.06 2.06-.94-2.06-.94L8.5 2.5l-.94 2.06-2.06.94zm10 10l.94 2.06.94-2.06 2.06-.94-2.06-.94-.94-2.06-.94 2.06-2.06.94z\"/><path d=\"M17.41 7.96l-1.37-1.37c-.4-.4-.92-.59-1.43-.59-.52 0-1.04.2-1.43.59L10.3 9.45l-7.72 7.72c-.78.78-.78 2.05 0 2.83L4 21.41c.39.39.9.59 1.41.59.51 0 1.02-.2 1.41-.59l7.78-7.78 2.81-2.81c.8-.78.8-2.07 0-2.86zM5.41 20L4 18.59l7.72-7.72 1.47 1.35L5.41 20z\"/>\n",
       "  </svg>\n",
       "      </button>\n",
       "      \n",
       "  <style>\n",
       "    .colab-df-container {\n",
       "      display:flex;\n",
       "      flex-wrap:wrap;\n",
       "      gap: 12px;\n",
       "    }\n",
       "\n",
       "    .colab-df-convert {\n",
       "      background-color: #E8F0FE;\n",
       "      border: none;\n",
       "      border-radius: 50%;\n",
       "      cursor: pointer;\n",
       "      display: none;\n",
       "      fill: #1967D2;\n",
       "      height: 32px;\n",
       "      padding: 0 0 0 0;\n",
       "      width: 32px;\n",
       "    }\n",
       "\n",
       "    .colab-df-convert:hover {\n",
       "      background-color: #E2EBFA;\n",
       "      box-shadow: 0px 1px 2px rgba(60, 64, 67, 0.3), 0px 1px 3px 1px rgba(60, 64, 67, 0.15);\n",
       "      fill: #174EA6;\n",
       "    }\n",
       "\n",
       "    [theme=dark] .colab-df-convert {\n",
       "      background-color: #3B4455;\n",
       "      fill: #D2E3FC;\n",
       "    }\n",
       "\n",
       "    [theme=dark] .colab-df-convert:hover {\n",
       "      background-color: #434B5C;\n",
       "      box-shadow: 0px 1px 3px 1px rgba(0, 0, 0, 0.15);\n",
       "      filter: drop-shadow(0px 1px 2px rgba(0, 0, 0, 0.3));\n",
       "      fill: #FFFFFF;\n",
       "    }\n",
       "  </style>\n",
       "\n",
       "      <script>\n",
       "        const buttonEl =\n",
       "          document.querySelector('#df-95e01a8f-3aa7-49d2-91eb-7adac9d4e444 button.colab-df-convert');\n",
       "        buttonEl.style.display =\n",
       "          google.colab.kernel.accessAllowed ? 'block' : 'none';\n",
       "\n",
       "        async function convertToInteractive(key) {\n",
       "          const element = document.querySelector('#df-95e01a8f-3aa7-49d2-91eb-7adac9d4e444');\n",
       "          const dataTable =\n",
       "            await google.colab.kernel.invokeFunction('convertToInteractive',\n",
       "                                                     [key], {});\n",
       "          if (!dataTable) return;\n",
       "\n",
       "          const docLinkHtml = 'Like what you see? Visit the ' +\n",
       "            '<a target=\"_blank\" href=https://colab.research.google.com/notebooks/data_table.ipynb>data table notebook</a>'\n",
       "            + ' to learn more about interactive tables.';\n",
       "          element.innerHTML = '';\n",
       "          dataTable['output_type'] = 'display_data';\n",
       "          await google.colab.output.renderOutput(dataTable, element);\n",
       "          const docLink = document.createElement('div');\n",
       "          docLink.innerHTML = docLinkHtml;\n",
       "          element.appendChild(docLink);\n",
       "        }\n",
       "      </script>\n",
       "    </div>\n",
       "  </div>\n",
       "  "
      ],
      "text/plain": [
       "        id         AIN  RollYear  ... distance_to_ucla distance_to_usc    ZHVI\n",
       "0  5886183  5001026010      2020  ...        10.486841        1.971209  521000\n",
       "1  5898370  5018026017      2020  ...        10.324066        1.517481  521000\n",
       "2  5900340  5021011018      2020  ...         9.080358        1.652903  600000\n",
       "3  5911752  5042028005      2020  ...         8.248579        1.577596  767000\n",
       "4  5914759  5042028006      2020  ...         8.254516        1.571165  767000\n",
       "\n",
       "[5 rows x 41 columns]"
      ]
     },
     "execution_count": 15,
     "metadata": {},
     "output_type": "execute_result"
    }
   ],
   "source": [
    "df.head()"
   ]
  },
  {
   "cell_type": "code",
   "execution_count": 19,
   "metadata": {
    "id": "W3yBedHcmD73"
   },
   "outputs": [],
   "source": [
    "df.to_csv('properties.csv',index=False)"
   ]
  },
  {
   "cell_type": "code",
   "execution_count": 16,
   "metadata": {
    "id": "7HUI6Mp3VK-M"
   },
   "outputs": [],
   "source": [
    "# df_ucla[df_ucla.PropertyLocation.str.find('740 T') != -1]"
   ]
  },
  {
   "cell_type": "code",
   "execution_count": null,
   "metadata": {
    "id": "04ydN7e0c0Jn"
   },
   "outputs": [],
   "source": [
    "X_train = df_ucla[['PropertyType', 'totBuildingDataLines', 'YearBuilt',\n",
    "       'EffectiveYearBuilt', 'SQFTmain', 'Bedrooms', 'Bathrooms', 'Units',\n",
    "       'LandValue', 'LandBaseYear', 'ImprovementValue',\n",
    "       'ImpBaseYear', 'TotalLandImpValue', 'HomeownersExemption',\n",
    "       'RealEstateExemption', 'FixtureValue', 'FixtureExemption',\n",
    "       'PersonalPropertyValue', 'PersonalPropertyExemption', 'isTaxableParcel',\n",
    "       'TotalValue', 'TotalExemption', 'netTaxableValue',\n",
    "       'AdministrativeRegion',\n",
    "       'RecordingDateYear', 'zip2','distance_to_ucla',\n",
    "       'distance_to_usc']]\n",
    "\n",
    "Y_train = df_ucla['price_sf']"
   ]
  },
  {
   "cell_type": "code",
   "execution_count": null,
   "metadata": {
    "id": "QKXv2LvBeo9A"
   },
   "outputs": [],
   "source": []
  },
  {
   "cell_type": "code",
   "execution_count": null,
   "metadata": {
    "id": "sHvY9fH5epAQ"
   },
   "outputs": [],
   "source": []
  }
 ],
 "metadata": {
  "colab": {
   "collapsed_sections": [],
   "name": "ECON445 Final project.ipynb",
   "provenance": []
  },
  "kernelspec": {
   "display_name": "Python 3",
   "language": "python",
   "name": "python3"
  },
  "language_info": {
   "codemirror_mode": {
    "name": "ipython",
    "version": 3
   },
   "file_extension": ".py",
   "mimetype": "text/x-python",
   "name": "python",
   "nbconvert_exporter": "python",
   "pygments_lexer": "ipython3",
   "version": "3.7.6"
  },
  "toc": {
   "base_numbering": 1,
   "nav_menu": {},
   "number_sections": true,
   "sideBar": true,
   "skip_h1_title": false,
   "title_cell": "Table of Contents",
   "title_sidebar": "Contents",
   "toc_cell": false,
   "toc_position": {},
   "toc_section_display": true,
   "toc_window_display": false
  }
 },
 "nbformat": 4,
 "nbformat_minor": 1
}
