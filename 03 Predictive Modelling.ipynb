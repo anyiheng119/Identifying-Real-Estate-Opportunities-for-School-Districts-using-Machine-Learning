{
 "cells": [
  {
   "cell_type": "markdown",
   "metadata": {
    "toc": true
   },
   "source": [
    "<h1>Table of Contents<span class=\"tocSkip\"></span></h1>\n",
    "<div class=\"toc\"><ul class=\"toc-item\"><li><span><a href=\"#Modelling-for-UCLA-District\" data-toc-modified-id=\"Modelling-for-UCLA-District-1\"><span class=\"toc-item-num\">1&nbsp;&nbsp;</span>Modelling for UCLA District</a></span><ul class=\"toc-item\"><li><span><a href=\"#AutoML\" data-toc-modified-id=\"AutoML-1.1\"><span class=\"toc-item-num\">1.1&nbsp;&nbsp;</span>AutoML</a></span></li><li><span><a href=\"#Stacked-Ensemble\" data-toc-modified-id=\"Stacked-Ensemble-1.2\"><span class=\"toc-item-num\">1.2&nbsp;&nbsp;</span>Stacked Ensemble</a></span></li><li><span><a href=\"#XGBoost\" data-toc-modified-id=\"XGBoost-1.3\"><span class=\"toc-item-num\">1.3&nbsp;&nbsp;</span>XGBoost</a></span></li><li><span><a href=\"#Random-Forest\" data-toc-modified-id=\"Random-Forest-1.4\"><span class=\"toc-item-num\">1.4&nbsp;&nbsp;</span>Random Forest</a></span></li><li><span><a href=\"#KNN\" data-toc-modified-id=\"KNN-1.5\"><span class=\"toc-item-num\">1.5&nbsp;&nbsp;</span>KNN</a></span></li><li><span><a href=\"#Support-Vector-Regression-(SVR)\" data-toc-modified-id=\"Support-Vector-Regression-(SVR)-1.6\"><span class=\"toc-item-num\">1.6&nbsp;&nbsp;</span>Support Vector Regression (SVR)</a></span></li></ul></li><li><span><a href=\"#Modelling-for-USC-District\" data-toc-modified-id=\"Modelling-for-USC-District-2\"><span class=\"toc-item-num\">2&nbsp;&nbsp;</span>Modelling for USC District</a></span><ul class=\"toc-item\"><li><span><a href=\"#AutoML\" data-toc-modified-id=\"AutoML-2.1\"><span class=\"toc-item-num\">2.1&nbsp;&nbsp;</span>AutoML</a></span></li><li><span><a href=\"#Stacked-Ensemble\" data-toc-modified-id=\"Stacked-Ensemble-2.2\"><span class=\"toc-item-num\">2.2&nbsp;&nbsp;</span>Stacked Ensemble</a></span></li><li><span><a href=\"#XGBoost\" data-toc-modified-id=\"XGBoost-2.3\"><span class=\"toc-item-num\">2.3&nbsp;&nbsp;</span>XGBoost</a></span></li><li><span><a href=\"#Random-Forest\" data-toc-modified-id=\"Random-Forest-2.4\"><span class=\"toc-item-num\">2.4&nbsp;&nbsp;</span>Random Forest</a></span></li><li><span><a href=\"#KNN\" data-toc-modified-id=\"KNN-2.5\"><span class=\"toc-item-num\">2.5&nbsp;&nbsp;</span>KNN</a></span></li><li><span><a href=\"#Support-Vector-Regression-(SVR)\" data-toc-modified-id=\"Support-Vector-Regression-(SVR)-2.6\"><span class=\"toc-item-num\">2.6&nbsp;&nbsp;</span>Support Vector Regression (SVR)</a></span></li></ul></li></ul></div>"
   ]
  },
  {
   "cell_type": "code",
   "execution_count": 17,
   "metadata": {
    "id": "qs-BLHXUtVNC"
   },
   "outputs": [],
   "source": [
    "# Data manipulation\n",
    "import pandas as pd\n",
    "import numpy as np\n",
    "\n",
    "# Data Viz\n",
    "import seaborn as sns\n",
    "import matplotlib.pyplot as plt\n",
    "%matplotlib inline\n",
    "\n",
    "# More Data Preprocessing & Machine Learning\n",
    "from sklearn.model_selection import train_test_split\n",
    "from sklearn.preprocessing import StandardScaler, normalize\n",
    "\n",
    "import warnings\n",
    "warnings.filterwarnings('ignore') "
   ]
  },
  {
   "cell_type": "markdown",
   "metadata": {
    "id": "afHg2ZW2tsiu"
   },
   "source": [
    "## Modelling for UCLA District"
   ]
  },
  {
   "cell_type": "code",
   "execution_count": 18,
   "metadata": {
    "id": "9hj30W1TtmPj"
   },
   "outputs": [],
   "source": [
    "X_train_ucla = pd.read_csv('X_train_ucla.csv')\n",
    "X_train_ucla = X_train_ucla.rename(columns={'Unnamed: 0': 'index'})\n",
    "X_train_ucla.index = X_train_ucla['index']\n",
    "X_train_ucla = X_train_ucla.drop('index',axis=1)"
   ]
  },
  {
   "cell_type": "code",
   "execution_count": 19,
   "metadata": {
    "id": "8j4wJ5NrtyZ2"
   },
   "outputs": [],
   "source": [
    "X_test_ucla = pd.read_csv('X_test_ucla.csv')\n",
    "X_test_ucla = X_test_ucla.rename(columns={'Unnamed: 0': 'index'})\n",
    "X_test_ucla.index = X_test_ucla['index']\n",
    "X_test_ucla = X_test_ucla.drop('index',axis=1)"
   ]
  },
  {
   "cell_type": "code",
   "execution_count": 20,
   "metadata": {
    "id": "lJC_kj1Lt136"
   },
   "outputs": [],
   "source": [
    "y_train_ucla = pd.read_csv('y_train_ucla.csv')\n",
    "y_train_ucla.index = X_train_ucla.index\n",
    "y_train_ucla = y_train_ucla.drop('Unnamed: 0',axis=1)"
   ]
  },
  {
   "cell_type": "code",
   "execution_count": 21,
   "metadata": {
    "id": "cGO1sqQQt3zH"
   },
   "outputs": [],
   "source": [
    "y_test_ucla = pd.read_csv('y_test_ucla.csv')\n",
    "y_test_ucla.index = X_test_ucla.index\n",
    "y_test_ucla = y_test_ucla.drop('Unnamed: 0',axis=1)"
   ]
  },
  {
   "cell_type": "code",
   "execution_count": 22,
   "metadata": {
    "colab": {
     "base_uri": "https://localhost:8080/"
    },
    "id": "SvwPk65e3jy8",
    "outputId": "500557ea-4d98-4254-f36a-5f3087384b00"
   },
   "outputs": [
    {
     "name": "stdout",
     "output_type": "stream",
     "text": [
      "Fri Mar  4 19:31:52 2022       \n",
      "+-----------------------------------------------------------------------------+\n",
      "| NVIDIA-SMI 460.32.03    Driver Version: 460.32.03    CUDA Version: 11.2     |\n",
      "|-------------------------------+----------------------+----------------------+\n",
      "| GPU  Name        Persistence-M| Bus-Id        Disp.A | Volatile Uncorr. ECC |\n",
      "| Fan  Temp  Perf  Pwr:Usage/Cap|         Memory-Usage | GPU-Util  Compute M. |\n",
      "|                               |                      |               MIG M. |\n",
      "|===============================+======================+======================|\n",
      "|   0  Tesla P100-PCIE...  Off  | 00000000:00:04.0 Off |                    0 |\n",
      "| N/A   40C    P0    33W / 250W |    291MiB / 16280MiB |      0%      Default |\n",
      "|                               |                      |                  N/A |\n",
      "+-------------------------------+----------------------+----------------------+\n",
      "                                                                               \n",
      "+-----------------------------------------------------------------------------+\n",
      "| Processes:                                                                  |\n",
      "|  GPU   GI   CI        PID   Type   Process name                  GPU Memory |\n",
      "|        ID   ID                                                   Usage      |\n",
      "|=============================================================================|\n",
      "+-----------------------------------------------------------------------------+\n"
     ]
    }
   ],
   "source": [
    "# TO DO: check the state of GPU\n",
    "gpu_info = !nvidia-smi\n",
    "gpu_info = '\\n'.join(gpu_info)\n",
    "if gpu_info.find('failed') >= 0:\n",
    "  print('Not connected to a GPU')\n",
    "else:\n",
    "  print(gpu_info)"
   ]
  },
  {
   "cell_type": "code",
   "execution_count": null,
   "metadata": {
    "id": "rgTMTXpaaxrZ"
   },
   "outputs": [],
   "source": [
    "# pip install h2o"
   ]
  },
  {
   "cell_type": "markdown",
   "metadata": {
    "id": "yeL9D6bVbbaS"
   },
   "source": [
    "### AutoML"
   ]
  },
  {
   "cell_type": "code",
   "execution_count": 27,
   "metadata": {
    "colab": {
     "base_uri": "https://localhost:8080/",
     "height": 500
    },
    "id": "MaUdVqs_4O4e",
    "outputId": "a72848e0-46de-480c-cef5-4e778f3b20a0"
   },
   "outputs": [
    {
     "name": "stdout",
     "output_type": "stream",
     "text": [
      "Checking whether there is an H2O instance running at http://localhost:54321 ..... not found.\n",
      "Attempting to start a local H2O server...\n",
      "  Java Version: openjdk version \"11.0.13\" 2021-10-19; OpenJDK Runtime Environment (build 11.0.13+8-Ubuntu-0ubuntu1.18.04); OpenJDK 64-Bit Server VM (build 11.0.13+8-Ubuntu-0ubuntu1.18.04, mixed mode, sharing)\n",
      "  Starting server from /usr/local/lib/python3.7/dist-packages/h2o/backend/bin/h2o.jar\n",
      "  Ice root: /tmp/tmpq7f7l3zn\n",
      "  JVM stdout: /tmp/tmpq7f7l3zn/h2o_unknownUser_started_from_python.out\n",
      "  JVM stderr: /tmp/tmpq7f7l3zn/h2o_unknownUser_started_from_python.err\n",
      "  Server is running at http://127.0.0.1:54321\n",
      "Connecting to H2O server at http://127.0.0.1:54321 ... successful.\n"
     ]
    },
    {
     "data": {
      "text/html": [
       "<div style=\"overflow:auto\"><table style=\"width:50%\"><tr><td>H2O_cluster_uptime:</td>\n",
       "<td>01 secs</td></tr>\n",
       "<tr><td>H2O_cluster_timezone:</td>\n",
       "<td>Etc/UTC</td></tr>\n",
       "<tr><td>H2O_data_parsing_timezone:</td>\n",
       "<td>UTC</td></tr>\n",
       "<tr><td>H2O_cluster_version:</td>\n",
       "<td>3.36.0.3</td></tr>\n",
       "<tr><td>H2O_cluster_version_age:</td>\n",
       "<td>16 days </td></tr>\n",
       "<tr><td>H2O_cluster_name:</td>\n",
       "<td>H2O_from_python_unknownUser_bhgpys</td></tr>\n",
       "<tr><td>H2O_cluster_total_nodes:</td>\n",
       "<td>1</td></tr>\n",
       "<tr><td>H2O_cluster_free_memory:</td>\n",
       "<td>10 Gb</td></tr>\n",
       "<tr><td>H2O_cluster_total_cores:</td>\n",
       "<td>8</td></tr>\n",
       "<tr><td>H2O_cluster_allowed_cores:</td>\n",
       "<td>8</td></tr>\n",
       "<tr><td>H2O_cluster_status:</td>\n",
       "<td>locked, healthy</td></tr>\n",
       "<tr><td>H2O_connection_url:</td>\n",
       "<td>http://127.0.0.1:54321</td></tr>\n",
       "<tr><td>H2O_connection_proxy:</td>\n",
       "<td>{\"http\": null, \"https\": null}</td></tr>\n",
       "<tr><td>H2O_internal_security:</td>\n",
       "<td>False</td></tr>\n",
       "<tr><td>Python_version:</td>\n",
       "<td>3.7.12 final</td></tr></table></div>"
      ],
      "text/plain": [
       "--------------------------  ----------------------------------\n",
       "H2O_cluster_uptime:         01 secs\n",
       "H2O_cluster_timezone:       Etc/UTC\n",
       "H2O_data_parsing_timezone:  UTC\n",
       "H2O_cluster_version:        3.36.0.3\n",
       "H2O_cluster_version_age:    16 days\n",
       "H2O_cluster_name:           H2O_from_python_unknownUser_bhgpys\n",
       "H2O_cluster_total_nodes:    1\n",
       "H2O_cluster_free_memory:    10 Gb\n",
       "H2O_cluster_total_cores:    8\n",
       "H2O_cluster_allowed_cores:  8\n",
       "H2O_cluster_status:         locked, healthy\n",
       "H2O_connection_url:         http://127.0.0.1:54321\n",
       "H2O_connection_proxy:       {\"http\": null, \"https\": null}\n",
       "H2O_internal_security:      False\n",
       "Python_version:             3.7.12 final\n",
       "--------------------------  ----------------------------------"
      ]
     },
     "metadata": {},
     "output_type": "display_data"
    }
   ],
   "source": [
    "# TO DO: prepare for h2o\n",
    "import h2o\n",
    "h2o.init(max_mem_size='10g')"
   ]
  },
  {
   "cell_type": "code",
   "execution_count": 30,
   "metadata": {
    "id": "laON516y5ThK"
   },
   "outputs": [],
   "source": [
    "XY_train_ucla = pd.concat([y_train_ucla,X_train_ucla], axis=1)\n",
    "XY_test_ucla = pd.concat([y_test_ucla,X_test_ucla], axis=1)"
   ]
  },
  {
   "cell_type": "code",
   "execution_count": 31,
   "metadata": {
    "colab": {
     "base_uri": "https://localhost:8080/"
    },
    "id": "eNdRRdi34R5W",
    "outputId": "111b6833-94d8-4acf-e06c-ccf896fe168c"
   },
   "outputs": [
    {
     "name": "stdout",
     "output_type": "stream",
     "text": [
      "Parse progress: |████████████████████████████████████████████████████████████████| (done) 100%\n",
      "Parse progress: |████████████████████████████████████████████████████████████████| (done) 100%\n"
     ]
    }
   ],
   "source": [
    "#TO DO: convert data to h2o df\n",
    "train = h2o.H2OFrame(XY_train_ucla)\n",
    "test = h2o.H2OFrame(XY_test_ucla)"
   ]
  },
  {
   "cell_type": "code",
   "execution_count": 32,
   "metadata": {
    "id": "J-1hjg3_57nY"
   },
   "outputs": [],
   "source": [
    "#TO DO: prepare h2o objects\n",
    "y = '0'\n",
    "x = train.columns\n",
    "x.remove(y)"
   ]
  },
  {
   "cell_type": "code",
   "execution_count": 33,
   "metadata": {
    "id": "c16g_Lpa57zc"
   },
   "outputs": [],
   "source": [
    "# build autoML\n",
    "from h2o.automl import H2OAutoML\n",
    "\n",
    "aml = H2OAutoML(max_runtime_secs=600,\n",
    "         stopping_metric='MAE',\n",
    "         nfolds=5,seed=99,\n",
    "         include_algos = [\"DRF\",\"XGBoost\",\"StackedEnsemble\",\"GLM\"],\n",
    "         max_models = 10)"
   ]
  },
  {
   "cell_type": "code",
   "execution_count": null,
   "metadata": {
    "id": "2FNuybvn575E"
   },
   "outputs": [],
   "source": [
    "# TO DO: train models\n",
    "%time aml.train(x=x, y=y, training_frame=train)"
   ]
  },
  {
   "cell_type": "code",
   "execution_count": 35,
   "metadata": {
    "colab": {
     "base_uri": "https://localhost:8080/",
     "height": 526
    },
    "id": "-tLVlgFN7tA4",
    "outputId": "d57c89d6-b8c3-4d9c-c3ba-01065a0571ef"
   },
   "outputs": [
    {
     "data": {
      "text/html": [
       "<table>\n",
       "<thead>\n",
       "<tr><th>model_id                                               </th><th style=\"text-align: right;\">  mean_residual_deviance</th><th style=\"text-align: right;\">   rmse</th><th style=\"text-align: right;\">    mse</th><th style=\"text-align: right;\">     mae</th><th style=\"text-align: right;\">  rmsle</th></tr>\n",
       "</thead>\n",
       "<tbody>\n",
       "<tr><td>StackedEnsemble_AllModels_6_AutoML_1_20220304_193526   </td><td style=\"text-align: right;\">                 1      </td><td style=\"text-align: right;\">1      </td><td style=\"text-align: right;\">1      </td><td style=\"text-align: right;\">0.642982</td><td style=\"text-align: right;\">    nan</td></tr>\n",
       "<tr><td>StackedEnsemble_BestOfFamily_7_AutoML_1_20220304_193526</td><td style=\"text-align: right;\">                 1.00002</td><td style=\"text-align: right;\">1.00001</td><td style=\"text-align: right;\">1.00002</td><td style=\"text-align: right;\">0.642985</td><td style=\"text-align: right;\">    nan</td></tr>\n",
       "<tr><td>StackedEnsemble_BestOfFamily_3_AutoML_1_20220304_193526</td><td style=\"text-align: right;\">                 1.00003</td><td style=\"text-align: right;\">1.00002</td><td style=\"text-align: right;\">1.00003</td><td style=\"text-align: right;\">0.643003</td><td style=\"text-align: right;\">    nan</td></tr>\n",
       "<tr><td>StackedEnsemble_BestOfFamily_4_AutoML_1_20220304_193526</td><td style=\"text-align: right;\">                 1.00006</td><td style=\"text-align: right;\">1.00003</td><td style=\"text-align: right;\">1.00006</td><td style=\"text-align: right;\">0.643005</td><td style=\"text-align: right;\">    nan</td></tr>\n",
       "<tr><td>StackedEnsemble_AllModels_2_AutoML_1_20220304_193526   </td><td style=\"text-align: right;\">                 1.00006</td><td style=\"text-align: right;\">1.00003</td><td style=\"text-align: right;\">1.00006</td><td style=\"text-align: right;\">0.643001</td><td style=\"text-align: right;\">    nan</td></tr>\n",
       "<tr><td>StackedEnsemble_AllModels_1_AutoML_1_20220304_193526   </td><td style=\"text-align: right;\">                 1.0001 </td><td style=\"text-align: right;\">1.00005</td><td style=\"text-align: right;\">1.0001 </td><td style=\"text-align: right;\">0.64302 </td><td style=\"text-align: right;\">    nan</td></tr>\n",
       "<tr><td>StackedEnsemble_BestOfFamily_2_AutoML_1_20220304_193526</td><td style=\"text-align: right;\">                 1.00011</td><td style=\"text-align: right;\">1.00005</td><td style=\"text-align: right;\">1.00011</td><td style=\"text-align: right;\">0.642997</td><td style=\"text-align: right;\">    nan</td></tr>\n",
       "<tr><td>StackedEnsemble_AllModels_3_AutoML_1_20220304_193526   </td><td style=\"text-align: right;\">                 1.00011</td><td style=\"text-align: right;\">1.00005</td><td style=\"text-align: right;\">1.00011</td><td style=\"text-align: right;\">0.643001</td><td style=\"text-align: right;\">    nan</td></tr>\n",
       "<tr><td>StackedEnsemble_BestOfFamily_1_AutoML_1_20220304_193526</td><td style=\"text-align: right;\">                 1.00012</td><td style=\"text-align: right;\">1.00006</td><td style=\"text-align: right;\">1.00012</td><td style=\"text-align: right;\">0.643034</td><td style=\"text-align: right;\">    nan</td></tr>\n",
       "<tr><td>GLM_1_AutoML_1_20220304_193526                         </td><td style=\"text-align: right;\">                 1.00177</td><td style=\"text-align: right;\">1.00089</td><td style=\"text-align: right;\">1.00177</td><td style=\"text-align: right;\">0.643396</td><td style=\"text-align: right;\">    nan</td></tr>\n",
       "<tr><td>StackedEnsemble_BestOfFamily_6_AutoML_1_20220304_193526</td><td style=\"text-align: right;\">                 1.00338</td><td style=\"text-align: right;\">1.00169</td><td style=\"text-align: right;\">1.00338</td><td style=\"text-align: right;\">0.644924</td><td style=\"text-align: right;\">    nan</td></tr>\n",
       "<tr><td>StackedEnsemble_AllModels_5_AutoML_1_20220304_193526   </td><td style=\"text-align: right;\">                 1.00434</td><td style=\"text-align: right;\">1.00217</td><td style=\"text-align: right;\">1.00434</td><td style=\"text-align: right;\">0.645092</td><td style=\"text-align: right;\">    nan</td></tr>\n",
       "<tr><td>XGBoost_grid_1_AutoML_1_20220304_193526_model_4        </td><td style=\"text-align: right;\">                 1.0121 </td><td style=\"text-align: right;\">1.00603</td><td style=\"text-align: right;\">1.0121 </td><td style=\"text-align: right;\">0.648267</td><td style=\"text-align: right;\">    nan</td></tr>\n",
       "<tr><td>XGBoost_3_AutoML_1_20220304_193526                     </td><td style=\"text-align: right;\">                 1.02269</td><td style=\"text-align: right;\">1.01128</td><td style=\"text-align: right;\">1.02269</td><td style=\"text-align: right;\">0.653238</td><td style=\"text-align: right;\">    nan</td></tr>\n",
       "<tr><td>XGBoost_grid_1_AutoML_1_20220304_193526_model_3        </td><td style=\"text-align: right;\">                 1.02393</td><td style=\"text-align: right;\">1.01189</td><td style=\"text-align: right;\">1.02393</td><td style=\"text-align: right;\">0.654018</td><td style=\"text-align: right;\">    nan</td></tr>\n",
       "<tr><td>DRF_1_AutoML_1_20220304_193526                         </td><td style=\"text-align: right;\">                 1.03252</td><td style=\"text-align: right;\">1.01613</td><td style=\"text-align: right;\">1.03252</td><td style=\"text-align: right;\">0.657234</td><td style=\"text-align: right;\">    nan</td></tr>\n",
       "<tr><td>StackedEnsemble_BestOfFamily_5_AutoML_1_20220304_193526</td><td style=\"text-align: right;\">                 1.04775</td><td style=\"text-align: right;\">1.0236 </td><td style=\"text-align: right;\">1.04775</td><td style=\"text-align: right;\">0.662638</td><td style=\"text-align: right;\">    nan</td></tr>\n",
       "<tr><td>StackedEnsemble_AllModels_4_AutoML_1_20220304_193526   </td><td style=\"text-align: right;\">                 1.06103</td><td style=\"text-align: right;\">1.03006</td><td style=\"text-align: right;\">1.06103</td><td style=\"text-align: right;\">0.668198</td><td style=\"text-align: right;\">    nan</td></tr>\n",
       "<tr><td>XGBoost_grid_1_AutoML_1_20220304_193526_model_2        </td><td style=\"text-align: right;\">                 1.07549</td><td style=\"text-align: right;\">1.03706</td><td style=\"text-align: right;\">1.07549</td><td style=\"text-align: right;\">0.684022</td><td style=\"text-align: right;\">    nan</td></tr>\n",
       "<tr><td>XGBoost_2_AutoML_1_20220304_193526                     </td><td style=\"text-align: right;\">                 1.09049</td><td style=\"text-align: right;\">1.04426</td><td style=\"text-align: right;\">1.09049</td><td style=\"text-align: right;\">0.68538 </td><td style=\"text-align: right;\">    nan</td></tr>\n",
       "<tr><td>XGBoost_1_AutoML_1_20220304_193526                     </td><td style=\"text-align: right;\">                 1.135  </td><td style=\"text-align: right;\">1.06536</td><td style=\"text-align: right;\">1.135  </td><td style=\"text-align: right;\">0.708377</td><td style=\"text-align: right;\">    nan</td></tr>\n",
       "<tr><td>XRT_1_AutoML_1_20220304_193526                         </td><td style=\"text-align: right;\">                 1.17692</td><td style=\"text-align: right;\">1.08486</td><td style=\"text-align: right;\">1.17692</td><td style=\"text-align: right;\">0.77997 </td><td style=\"text-align: right;\">    nan</td></tr>\n",
       "<tr><td>XGBoost_grid_1_AutoML_1_20220304_193526_model_1        </td><td style=\"text-align: right;\">                 1.233  </td><td style=\"text-align: right;\">1.1104 </td><td style=\"text-align: right;\">1.233  </td><td style=\"text-align: right;\">0.727465</td><td style=\"text-align: right;\">    nan</td></tr>\n",
       "</tbody>\n",
       "</table>"
      ]
     },
     "metadata": {},
     "output_type": "display_data"
    },
    {
     "data": {
      "text/plain": []
     },
     "execution_count": 35,
     "metadata": {},
     "output_type": "execute_result"
    }
   ],
   "source": [
    "# TO DO: show the leaderboard\n",
    "lb = aml.leaderboard\n",
    "lb.head(rows=lb.nrows)"
   ]
  },
  {
   "cell_type": "markdown",
   "metadata": {
    "id": "gbujoi6-etcU"
   },
   "source": [
    "### Stacked Ensemble"
   ]
  },
  {
   "cell_type": "code",
   "execution_count": null,
   "metadata": {
    "id": "2UVa8aGs7tMm"
   },
   "outputs": [],
   "source": [
    "# TO DO: obtain the best model\n",
    "bst_model = aml.leader\n",
    "bst_model.model_performance(test)"
   ]
  },
  {
   "cell_type": "code",
   "execution_count": 62,
   "metadata": {
    "colab": {
     "base_uri": "https://localhost:8080/"
    },
    "id": "Uw_YSyKBC2zO",
    "outputId": "da6e574d-137a-4f72-fdbf-58ba023e2a72"
   },
   "outputs": [
    {
     "name": "stdout",
     "output_type": "stream",
     "text": [
      "stackedensemble prediction progress: |███████████████████████████████████████████| (done) 100%\n"
     ]
    }
   ],
   "source": [
    "y_pred = pd.DataFrame(bst_model.predict(test)[0].as_data_frame().values)"
   ]
  },
  {
   "cell_type": "code",
   "execution_count": 63,
   "metadata": {
    "colab": {
     "base_uri": "https://localhost:8080/"
    },
    "id": "66oOZHUIDmOi",
    "outputId": "4e73e9f2-2429-4c55-c7b5-1315a55b6ad6"
   },
   "outputs": [
    {
     "name": "stdout",
     "output_type": "stream",
     "text": [
      "Mean Squared Error: 0.9549021799656747\n",
      "Mean Absolute Error: 0.6387568948519549\n",
      "Median Absolute Error: 0.5059533558929372\n"
     ]
    }
   ],
   "source": [
    "# TO DO: check testing set performance\n",
    "import sklearn.metrics as metrics\n",
    "print('Mean Squared Error:', metrics.mean_squared_error(y_test_ucla, y_pred))\n",
    "print('Mean Absolute Error:', metrics.mean_absolute_error(y_test_ucla, y_pred))\n",
    "print('Median Absolute Error:', metrics.median_absolute_error(y_test_ucla, y_pred))"
   ]
  },
  {
   "cell_type": "markdown",
   "metadata": {
    "id": "m-WGSV71enKY"
   },
   "source": [
    "### XGBoost"
   ]
  },
  {
   "cell_type": "code",
   "execution_count": 60,
   "metadata": {
    "colab": {
     "base_uri": "https://localhost:8080/"
    },
    "id": "318htFereLZb",
    "outputId": "45b7c81c-bb1e-4c74-b1a3-ec5239d496d5"
   },
   "outputs": [
    {
     "name": "stdout",
     "output_type": "stream",
     "text": [
      "xgboost prediction progress: |███████████████████████████████████████████████████| (done) 100%\n"
     ]
    }
   ],
   "source": [
    "model = h2o.get_model('XGBoost_grid_1_AutoML_1_20220304_193526_model_4')\n",
    "y_pred = pd.DataFrame(model.predict(test)[0].as_data_frame().values)"
   ]
  },
  {
   "cell_type": "code",
   "execution_count": 61,
   "metadata": {
    "colab": {
     "base_uri": "https://localhost:8080/"
    },
    "id": "K_JqRQj4eLeC",
    "outputId": "6b19fb77-1deb-4dbc-998f-9f1bc90cd482"
   },
   "outputs": [
    {
     "name": "stdout",
     "output_type": "stream",
     "text": [
      "Mean Squared Error: 0.9635242398198685\n",
      "Mean Absolute Error: 0.6430272218451674\n",
      "Median Absolute Error: 0.5087322558958639\n"
     ]
    }
   ],
   "source": [
    "# TO DO: check testing set performance\n",
    "import sklearn.metrics as metrics\n",
    "print('Mean Squared Error:', metrics.mean_squared_error(y_test_ucla, y_pred))\n",
    "print('Mean Absolute Error:', metrics.mean_absolute_error(y_test_ucla, y_pred))\n",
    "print('Median Absolute Error:', metrics.median_absolute_error(y_test_ucla, y_pred))"
   ]
  },
  {
   "cell_type": "code",
   "execution_count": 51,
   "metadata": {
    "colab": {
     "base_uri": "https://localhost:8080/",
     "height": 583
    },
    "id": "HNUocPKJg6KG",
    "outputId": "89946bc0-b7bd-41c6-c6de-3ef110daca93"
   },
   "outputs": [
    {
     "data": {
      "image/png": "[encoded data removed]",
      "text/plain": [
       "<Figure size 1152x648 with 1 Axes>"
      ]
     },
     "metadata": {
      "needs_background": "light"
     },
     "output_type": "display_data"
    }
   ],
   "source": [
    "learning_curve_plot = model.learning_curve_plot()"
   ]
  },
  {
   "cell_type": "code",
   "execution_count": 52,
   "metadata": {
    "colab": {
     "base_uri": "https://localhost:8080/",
     "height": 630
    },
    "id": "PNTxSKDne-tW",
    "outputId": "210e0552-515f-4cbb-d66e-bb441ef40f52"
   },
   "outputs": [
    {
     "data": {
      "image/png": "[encoded data removed]",
      "text/plain": [
       "<Figure size 1008x720 with 1 Axes>"
      ]
     },
     "metadata": {
      "needs_background": "light"
     },
     "output_type": "display_data"
    },
    {
     "data": {
      "text/plain": [
       "<Figure size 432x288 with 0 Axes>"
      ]
     },
     "metadata": {},
     "output_type": "display_data"
    }
   ],
   "source": [
    "ra_plot = model.varimp_plot()"
   ]
  },
  {
   "cell_type": "markdown",
   "metadata": {
    "id": "1w5CIb3zfDdH"
   },
   "source": [
    "### Random Forest"
   ]
  },
  {
   "cell_type": "code",
   "execution_count": 58,
   "metadata": {
    "colab": {
     "base_uri": "https://localhost:8080/"
    },
    "id": "_SDGpYBke-wB",
    "outputId": "c0218ca0-6448-45c8-e754-765aef287a0b"
   },
   "outputs": [
    {
     "name": "stdout",
     "output_type": "stream",
     "text": [
      "drf prediction progress: |███████████████████████████████████████████████████████| (done) 100%\n"
     ]
    }
   ],
   "source": [
    "model = h2o.get_model('DRF_1_AutoML_1_20220304_193526')\n",
    "y_pred = pd.DataFrame(model.predict(test)[0].as_data_frame().values)"
   ]
  },
  {
   "cell_type": "code",
   "execution_count": 59,
   "metadata": {
    "colab": {
     "base_uri": "https://localhost:8080/"
    },
    "id": "obOnH7-FfBpg",
    "outputId": "6b444e5a-e6da-4c1c-99e2-2282cbab5a78"
   },
   "outputs": [
    {
     "name": "stdout",
     "output_type": "stream",
     "text": [
      "Mean Squared Error: 0.9801925852069605\n",
      "Mean Absolute Error: 0.6494528681812309\n",
      "Median Absolute Error: 0.5129556946763333\n"
     ]
    }
   ],
   "source": [
    "# TO DO: check testing set performance\n",
    "import sklearn.metrics as metrics\n",
    "print('Mean Squared Error:', metrics.mean_squared_error(y_test_ucla, y_pred))\n",
    "print('Mean Absolute Error:', metrics.mean_absolute_error(y_test_ucla, y_pred))\n",
    "print('Median Absolute Error:', metrics.median_absolute_error(y_test_ucla, y_pred))"
   ]
  },
  {
   "cell_type": "markdown",
   "metadata": {
    "id": "TPCU4szW2vMl"
   },
   "source": [
    "### KNN "
   ]
  },
  {
   "cell_type": "code",
   "execution_count": 26,
   "metadata": {
    "colab": {
     "base_uri": "https://localhost:8080/"
    },
    "id": "WjhVuBnn2phx",
    "outputId": "bc322bdb-47e9-4abc-ced5-4873a704f0f8"
   },
   "outputs": [
    {
     "data": {
      "text/plain": [
       "KNeighborsRegressor(n_neighbors=100)"
      ]
     },
     "execution_count": 26,
     "metadata": {},
     "output_type": "execute_result"
    }
   ],
   "source": [
    "# TO DO: implement 5-fold cross-validation for parameter tuning\n",
    "from sklearn.neighbors import KNeighborsRegressor\n",
    "from sklearn.model_selection import RandomizedSearchCV, GridSearchCV # RandomizedSearchCV is faster\n",
    "\n",
    "param_dist = {'n_neighbors': [5, 10, 30, 50, 70, 100]}\n",
    "regressor = KNeighborsRegressor()\n",
    "grid = GridSearchCV(regressor, param_dist, cv = 5, scoring = 'neg_mean_absolute_error', n_jobs = -1)\n",
    "\n",
    "grid.fit(X_train_ucla, y_train_ucla) # no need for normalization\n",
    "grid.best_estimator_"
   ]
  },
  {
   "cell_type": "code",
   "execution_count": 56,
   "metadata": {
    "id": "5TCWJ_Qm3Shk"
   },
   "outputs": [],
   "source": [
    "# TO DO: train the model with optimal parameters\n",
    "regressor_knn = KNeighborsRegressor(n_neighbors=100)\n",
    "regressor_knn.fit(X_train_ucla, y_train_ucla)\n",
    "y_pred = regressor_knn.predict(X_test_ucla)"
   ]
  },
  {
   "cell_type": "code",
   "execution_count": 57,
   "metadata": {
    "colab": {
     "base_uri": "https://localhost:8080/"
    },
    "id": "eoVm_d1G4xXs",
    "outputId": "7e16d931-d3dc-4690-c776-1b0cdd67fcfa"
   },
   "outputs": [
    {
     "name": "stdout",
     "output_type": "stream",
     "text": [
      "Mean Squared Error: 0.9630598835101957\n",
      "Mean Absolute Error: 0.6445714315916161\n",
      "Median Absolute Error: 0.5087309897884507\n"
     ]
    }
   ],
   "source": [
    "# TO DO: check testing set performance\n",
    "import sklearn.metrics as metrics\n",
    "print('Mean Squared Error:', metrics.mean_squared_error(y_test_ucla, y_pred))\n",
    "print('Mean Absolute Error:', metrics.mean_absolute_error(y_test_ucla, y_pred))\n",
    "print('Median Absolute Error:', metrics.median_absolute_error(y_test_ucla, y_pred))"
   ]
  },
  {
   "cell_type": "markdown",
   "metadata": {
    "id": "f13RlfrPuOth"
   },
   "source": [
    "### Support Vector Regression (SVR)"
   ]
  },
  {
   "cell_type": "code",
   "execution_count": 53,
   "metadata": {
    "colab": {
     "base_uri": "https://localhost:8080/"
    },
    "id": "iV-XHVJRuOBs",
    "outputId": "e7bf3967-b1c0-49fc-d3f2-c0fd5a3d4425"
   },
   "outputs": [
    {
     "data": {
      "text/plain": [
       "SVR(C=0.1, gamma=0.006329113924050633)"
      ]
     },
     "execution_count": 53,
     "metadata": {},
     "output_type": "execute_result"
    }
   ],
   "source": [
    "# TO DO: implement 5-fold cross-validation for parameter tuning\n",
    "from sklearn.svm import SVR\n",
    "from sklearn.model_selection import RandomizedSearchCV, GridSearchCV # RandomizedSearchCV is faster\n",
    "\n",
    "param_dist = {'C': [0.1, 0.5, 1]}\n",
    "regressor_svr = SVR(kernel='rbf',gamma=1/X_train_ucla.shape[1])\n",
    "grid = GridSearchCV(regressor_svr, param_dist, cv = 5, scoring = 'neg_mean_absolute_error', n_jobs = -1)\n",
    "\n",
    "grid.fit(X_train_ucla, y_train_ucla)\n",
    "grid.best_estimator_"
   ]
  },
  {
   "cell_type": "code",
   "execution_count": 54,
   "metadata": {
    "id": "kdvIiLb9wLds"
   },
   "outputs": [],
   "source": [
    "# TO DO: train the model with optimal parameters\n",
    "regressor_svr = SVR(C=0.1, kernel='rbf', gamma=1/X_train_ucla.shape[1])\n",
    "regressor_svr.fit(X_train_ucla, y_train_ucla)\n",
    "y_pred = regressor_svr.predict(X_test_ucla)"
   ]
  },
  {
   "cell_type": "code",
   "execution_count": 55,
   "metadata": {
    "colab": {
     "base_uri": "https://localhost:8080/"
    },
    "id": "h8bsS8UdwLgV",
    "outputId": "9b34ceff-eb36-49c6-ceb7-a5f055096808"
   },
   "outputs": [
    {
     "name": "stdout",
     "output_type": "stream",
     "text": [
      "Mean Squared Error: 0.9759420644491487\n",
      "Mean Absolute Error: 0.6304210948921417\n",
      "Median Absolute Error: 0.4827779891066538\n"
     ]
    }
   ],
   "source": [
    "# TO DO: check testing set performance\n",
    "import sklearn.metrics as metrics\n",
    "print('Mean Squared Error:', metrics.mean_squared_error(y_test_ucla, y_pred))\n",
    "print('Mean Absolute Error:', metrics.mean_absolute_error(y_test_ucla, y_pred))\n",
    "print('Median Absolute Error:', metrics.median_absolute_error(y_test_ucla, y_pred))"
   ]
  },
  {
   "cell_type": "code",
   "execution_count": null,
   "metadata": {
    "id": "V8HnwXO-BAPa"
   },
   "outputs": [],
   "source": [
    "# TO DO: output the predictions\n",
    "y_pred_svr_ucla = y_pred\n",
    "pd.DataFrame(y_pred_svr_ucla).to_csv('y_pred_svr_ucla.csv')"
   ]
  },
  {
   "cell_type": "markdown",
   "metadata": {
    "id": "b-m6f8I0wMLd"
   },
   "source": [
    "## Modelling for USC District"
   ]
  },
  {
   "cell_type": "code",
   "execution_count": 88,
   "metadata": {
    "id": "86Y4QGJFwN66"
   },
   "outputs": [],
   "source": [
    "X_train_usc = pd.read_csv('X_train_usc.csv')\n",
    "X_train_usc = X_train_usc.rename(columns={'Unnamed: 0': 'index'})\n",
    "X_train_usc.index = X_train_usc['index']\n",
    "X_train_usc = X_train_usc.drop('index',axis=1)"
   ]
  },
  {
   "cell_type": "code",
   "execution_count": 89,
   "metadata": {
    "id": "Vgo7oPiSwN9k"
   },
   "outputs": [],
   "source": [
    "X_test_usc = pd.read_csv('X_test_usc.csv')\n",
    "X_test_usc = X_test_usc.rename(columns={'Unnamed: 0': 'index'})\n",
    "X_test_usc.index = X_test_usc['index']\n",
    "X_test_usc = X_test_usc.drop('index',axis=1)"
   ]
  },
  {
   "cell_type": "code",
   "execution_count": 90,
   "metadata": {
    "id": "0GDAVQzrxuM8"
   },
   "outputs": [],
   "source": [
    "y_train_usc = pd.read_csv('y_train_usc.csv')\n",
    "y_train_usc.index = X_train_usc.index\n",
    "y_train_usc = y_train_usc.drop('Unnamed: 0',axis=1)"
   ]
  },
  {
   "cell_type": "code",
   "execution_count": 91,
   "metadata": {
    "id": "MAypVcV2xuPp"
   },
   "outputs": [],
   "source": [
    "y_test_usc = pd.read_csv('y_test_usc.csv')\n",
    "y_test_usc.index = X_test_usc.index\n",
    "y_test_usc = y_test_usc.drop('Unnamed: 0',axis=1)"
   ]
  },
  {
   "cell_type": "code",
   "execution_count": 92,
   "metadata": {
    "id": "1SfNpl9Vxxec"
   },
   "outputs": [],
   "source": [
    "XY_train_usc = pd.concat([y_train_usc,X_train_usc], axis=1)\n",
    "XY_test_usc = pd.concat([y_test_usc,X_test_usc], axis=1)"
   ]
  },
  {
   "cell_type": "markdown",
   "metadata": {
    "id": "7ypfsvkzmULQ"
   },
   "source": [
    "### AutoML"
   ]
  },
  {
   "cell_type": "code",
   "execution_count": 94,
   "metadata": {
    "colab": {
     "base_uri": "https://localhost:8080/"
    },
    "id": "ekY8pDyExxg5",
    "outputId": "7022ff30-dc9e-4de6-d826-41c3b58f8d96"
   },
   "outputs": [
    {
     "name": "stdout",
     "output_type": "stream",
     "text": [
      "Parse progress: |████████████████████████████████████████████████████████████████| (done) 100%\n",
      "Parse progress: |████████████████████████████████████████████████████████████████| (done) 100%\n"
     ]
    }
   ],
   "source": [
    "#TO DO: convert data to h2o df\n",
    "train_usc = h2o.H2OFrame(XY_train_usc)\n",
    "test_usc = h2o.H2OFrame(XY_test_usc)"
   ]
  },
  {
   "cell_type": "code",
   "execution_count": 95,
   "metadata": {
    "id": "7fxpbnPlxxjb"
   },
   "outputs": [],
   "source": [
    "#TO DO: prepare h2o objects\n",
    "y = '0'\n",
    "x = train_usc.columns\n",
    "x.remove(y)"
   ]
  },
  {
   "cell_type": "code",
   "execution_count": 96,
   "metadata": {
    "id": "yWRANOWQS-_l"
   },
   "outputs": [],
   "source": [
    "# build autoML\n",
    "from h2o.automl import H2OAutoML\n",
    "\n",
    "aml = H2OAutoML(max_runtime_secs=600,\n",
    "         stopping_metric='MAE',\n",
    "         nfolds=5,seed=99,\n",
    "         include_algos = [\"DRF\",\"XGBoost\",\"StackedEnsemble\",\"GLM\"],\n",
    "         max_models = 10)"
   ]
  },
  {
   "cell_type": "code",
   "execution_count": null,
   "metadata": {
    "id": "31aZMJ7rS_Ck"
   },
   "outputs": [],
   "source": [
    "# TO DO: train models\n",
    "%time aml.train(x=x, y=y, training_frame=train_usc)"
   ]
  },
  {
   "cell_type": "code",
   "execution_count": 102,
   "metadata": {
    "colab": {
     "base_uri": "https://localhost:8080/",
     "height": 526
    },
    "id": "zDYrbxGxmYbv",
    "outputId": "2423655a-2d2c-4945-d189-1a0c6dbf4dde"
   },
   "outputs": [
    {
     "data": {
      "text/html": [
       "<table>\n",
       "<thead>\n",
       "<tr><th>model_id                                               </th><th style=\"text-align: right;\">  mean_residual_deviance</th><th style=\"text-align: right;\">   rmse</th><th style=\"text-align: right;\">    mse</th><th style=\"text-align: right;\">     mae</th><th style=\"text-align: right;\">  rmsle</th></tr>\n",
       "</thead>\n",
       "<tbody>\n",
       "<tr><td>StackedEnsemble_BestOfFamily_7_AutoML_3_20220304_202900</td><td style=\"text-align: right;\">                 1.00003</td><td style=\"text-align: right;\">1.00002</td><td style=\"text-align: right;\">1.00003</td><td style=\"text-align: right;\">0.692572</td><td style=\"text-align: right;\">    nan</td></tr>\n",
       "<tr><td>StackedEnsemble_AllModels_6_AutoML_3_20220304_202900   </td><td style=\"text-align: right;\">                 1.00004</td><td style=\"text-align: right;\">1.00002</td><td style=\"text-align: right;\">1.00004</td><td style=\"text-align: right;\">0.692567</td><td style=\"text-align: right;\">    nan</td></tr>\n",
       "<tr><td>StackedEnsemble_BestOfFamily_3_AutoML_3_20220304_202900</td><td style=\"text-align: right;\">                 1.00005</td><td style=\"text-align: right;\">1.00003</td><td style=\"text-align: right;\">1.00005</td><td style=\"text-align: right;\">0.692569</td><td style=\"text-align: right;\">    nan</td></tr>\n",
       "<tr><td>StackedEnsemble_BestOfFamily_2_AutoML_3_20220304_202900</td><td style=\"text-align: right;\">                 1.00005</td><td style=\"text-align: right;\">1.00003</td><td style=\"text-align: right;\">1.00005</td><td style=\"text-align: right;\">0.692566</td><td style=\"text-align: right;\">    nan</td></tr>\n",
       "<tr><td>StackedEnsemble_BestOfFamily_1_AutoML_3_20220304_202900</td><td style=\"text-align: right;\">                 1.00007</td><td style=\"text-align: right;\">1.00003</td><td style=\"text-align: right;\">1.00007</td><td style=\"text-align: right;\">0.692572</td><td style=\"text-align: right;\">    nan</td></tr>\n",
       "<tr><td>StackedEnsemble_BestOfFamily_4_AutoML_3_20220304_202900</td><td style=\"text-align: right;\">                 1.00008</td><td style=\"text-align: right;\">1.00004</td><td style=\"text-align: right;\">1.00008</td><td style=\"text-align: right;\">0.692583</td><td style=\"text-align: right;\">    nan</td></tr>\n",
       "<tr><td>StackedEnsemble_AllModels_3_AutoML_3_20220304_202900   </td><td style=\"text-align: right;\">                 1.00012</td><td style=\"text-align: right;\">1.00006</td><td style=\"text-align: right;\">1.00012</td><td style=\"text-align: right;\">0.692595</td><td style=\"text-align: right;\">    nan</td></tr>\n",
       "<tr><td>StackedEnsemble_AllModels_2_AutoML_3_20220304_202900   </td><td style=\"text-align: right;\">                 1.00012</td><td style=\"text-align: right;\">1.00006</td><td style=\"text-align: right;\">1.00012</td><td style=\"text-align: right;\">0.692602</td><td style=\"text-align: right;\">    nan</td></tr>\n",
       "<tr><td>StackedEnsemble_AllModels_1_AutoML_3_20220304_202900   </td><td style=\"text-align: right;\">                 1.00014</td><td style=\"text-align: right;\">1.00007</td><td style=\"text-align: right;\">1.00014</td><td style=\"text-align: right;\">0.692615</td><td style=\"text-align: right;\">    nan</td></tr>\n",
       "<tr><td>GLM_1_AutoML_3_20220304_202900                         </td><td style=\"text-align: right;\">                 1.00074</td><td style=\"text-align: right;\">1.00037</td><td style=\"text-align: right;\">1.00074</td><td style=\"text-align: right;\">0.692834</td><td style=\"text-align: right;\">    nan</td></tr>\n",
       "<tr><td>StackedEnsemble_BestOfFamily_6_AutoML_3_20220304_202900</td><td style=\"text-align: right;\">                 1.00333</td><td style=\"text-align: right;\">1.00166</td><td style=\"text-align: right;\">1.00333</td><td style=\"text-align: right;\">0.694227</td><td style=\"text-align: right;\">    nan</td></tr>\n",
       "<tr><td>StackedEnsemble_AllModels_5_AutoML_3_20220304_202900   </td><td style=\"text-align: right;\">                 1.00405</td><td style=\"text-align: right;\">1.00202</td><td style=\"text-align: right;\">1.00405</td><td style=\"text-align: right;\">0.694146</td><td style=\"text-align: right;\">    nan</td></tr>\n",
       "<tr><td>XGBoost_grid_1_AutoML_3_20220304_202900_model_4        </td><td style=\"text-align: right;\">                 1.0105 </td><td style=\"text-align: right;\">1.00524</td><td style=\"text-align: right;\">1.0105 </td><td style=\"text-align: right;\">0.696575</td><td style=\"text-align: right;\">    nan</td></tr>\n",
       "<tr><td>DRF_1_AutoML_3_20220304_202900                         </td><td style=\"text-align: right;\">                 1.01771</td><td style=\"text-align: right;\">1.00881</td><td style=\"text-align: right;\">1.01771</td><td style=\"text-align: right;\">0.698456</td><td style=\"text-align: right;\">    nan</td></tr>\n",
       "<tr><td>XGBoost_3_AutoML_3_20220304_202900                     </td><td style=\"text-align: right;\">                 1.02047</td><td style=\"text-align: right;\">1.01018</td><td style=\"text-align: right;\">1.02047</td><td style=\"text-align: right;\">0.698557</td><td style=\"text-align: right;\">    nan</td></tr>\n",
       "<tr><td>XGBoost_grid_1_AutoML_3_20220304_202900_model_3        </td><td style=\"text-align: right;\">                 1.02773</td><td style=\"text-align: right;\">1.01377</td><td style=\"text-align: right;\">1.02773</td><td style=\"text-align: right;\">0.702597</td><td style=\"text-align: right;\">    nan</td></tr>\n",
       "<tr><td>StackedEnsemble_BestOfFamily_5_AutoML_3_20220304_202900</td><td style=\"text-align: right;\">                 1.03759</td><td style=\"text-align: right;\">1.01862</td><td style=\"text-align: right;\">1.03759</td><td style=\"text-align: right;\">0.704732</td><td style=\"text-align: right;\">    nan</td></tr>\n",
       "<tr><td>StackedEnsemble_AllModels_4_AutoML_3_20220304_202900   </td><td style=\"text-align: right;\">                 1.04873</td><td style=\"text-align: right;\">1.02408</td><td style=\"text-align: right;\">1.04873</td><td style=\"text-align: right;\">0.708933</td><td style=\"text-align: right;\">    nan</td></tr>\n",
       "<tr><td>XGBoost_grid_1_AutoML_3_20220304_202900_model_2        </td><td style=\"text-align: right;\">                 1.07942</td><td style=\"text-align: right;\">1.03895</td><td style=\"text-align: right;\">1.07942</td><td style=\"text-align: right;\">0.724414</td><td style=\"text-align: right;\">    nan</td></tr>\n",
       "<tr><td>XGBoost_2_AutoML_3_20220304_202900                     </td><td style=\"text-align: right;\">                 1.08633</td><td style=\"text-align: right;\">1.04227</td><td style=\"text-align: right;\">1.08633</td><td style=\"text-align: right;\">0.72463 </td><td style=\"text-align: right;\">    nan</td></tr>\n",
       "<tr><td>XGBoost_1_AutoML_3_20220304_202900                     </td><td style=\"text-align: right;\">                 1.12543</td><td style=\"text-align: right;\">1.06086</td><td style=\"text-align: right;\">1.12543</td><td style=\"text-align: right;\">0.741673</td><td style=\"text-align: right;\">    nan</td></tr>\n",
       "<tr><td>XGBoost_grid_1_AutoML_3_20220304_202900_model_1        </td><td style=\"text-align: right;\">                 1.17076</td><td style=\"text-align: right;\">1.08202</td><td style=\"text-align: right;\">1.17076</td><td style=\"text-align: right;\">0.752279</td><td style=\"text-align: right;\">    nan</td></tr>\n",
       "<tr><td>XRT_1_AutoML_3_20220304_202900                         </td><td style=\"text-align: right;\">                 1.18752</td><td style=\"text-align: right;\">1.08973</td><td style=\"text-align: right;\">1.18752</td><td style=\"text-align: right;\">0.86255 </td><td style=\"text-align: right;\">    nan</td></tr>\n",
       "</tbody>\n",
       "</table>"
      ]
     },
     "metadata": {},
     "output_type": "display_data"
    },
    {
     "data": {
      "text/plain": []
     },
     "execution_count": 102,
     "metadata": {},
     "output_type": "execute_result"
    }
   ],
   "source": [
    "# TO DO: show the leaderboard\n",
    "lb = aml.leaderboard\n",
    "lb.head(rows=lb.nrows)"
   ]
  },
  {
   "cell_type": "markdown",
   "metadata": {
    "id": "LiStVardn_Cl"
   },
   "source": [
    "### Stacked Ensemble"
   ]
  },
  {
   "cell_type": "code",
   "execution_count": 103,
   "metadata": {
    "colab": {
     "base_uri": "https://localhost:8080/"
    },
    "id": "I77EwR5Hn7HM",
    "outputId": "5d78358f-6556-4dc5-b40d-fbc76129a900"
   },
   "outputs": [
    {
     "name": "stdout",
     "output_type": "stream",
     "text": [
      "\n",
      "ModelMetricsRegressionGLM: stackedensemble\n",
      "** Reported on test data. **\n",
      "\n",
      "MSE: 0.954902176130438\n",
      "RMSE: 0.9771909619569954\n",
      "MAE: 0.6387568947805948\n",
      "RMSLE: NaN\n",
      "R^2: -1.2741718689035508e-06\n",
      "Mean Residual Deviance: 0.954902176130438\n",
      "Null degrees of freedom: 9540\n",
      "Residual degrees of freedom: 9540\n",
      "Null deviance: 9110.72166246051\n",
      "Residual deviance: 9110.72166246051\n",
      "AIC: 26639.902506516017\n"
     ]
    },
    {
     "data": {
      "text/plain": []
     },
     "execution_count": 103,
     "metadata": {},
     "output_type": "execute_result"
    }
   ],
   "source": [
    "# TO DO: obtain the best model\n",
    "bst_model = aml.leader\n",
    "bst_model.model_performance(test)"
   ]
  },
  {
   "cell_type": "code",
   "execution_count": 104,
   "metadata": {
    "colab": {
     "base_uri": "https://localhost:8080/"
    },
    "id": "DJ3GFjc_S_JE",
    "outputId": "16e3fbdc-73c5-4174-9d8c-08d343a86d65"
   },
   "outputs": [
    {
     "name": "stdout",
     "output_type": "stream",
     "text": [
      "stackedensemble prediction progress: |███████████████████████████████████████████| (done) 100%\n"
     ]
    }
   ],
   "source": [
    "y_pred = pd.DataFrame(bst_model.predict(test_usc)[0].as_data_frame().values)"
   ]
  },
  {
   "cell_type": "code",
   "execution_count": 105,
   "metadata": {
    "colab": {
     "base_uri": "https://localhost:8080/"
    },
    "id": "sSbfpmrRUGfQ",
    "outputId": "58e1ef70-94a7-40a5-d174-89ca49b7ea4e"
   },
   "outputs": [
    {
     "name": "stdout",
     "output_type": "stream",
     "text": [
      "Mean Squared Error: 0.9761092051416553\n",
      "Mean Absolute Error: 0.7021524895587913\n",
      "Median Absolute Error: 0.5396015678765905\n"
     ]
    }
   ],
   "source": [
    "# TO DO: check testing set performance\n",
    "import sklearn.metrics as metrics\n",
    "print('Mean Squared Error:', metrics.mean_squared_error(y_test_usc, y_pred))\n",
    "print('Mean Absolute Error:', metrics.mean_absolute_error(y_test_usc, y_pred))\n",
    "print('Median Absolute Error:', metrics.median_absolute_error(y_test_usc, y_pred))"
   ]
  },
  {
   "cell_type": "markdown",
   "metadata": {
    "id": "xHy0xey0pH3P"
   },
   "source": [
    "### XGBoost"
   ]
  },
  {
   "cell_type": "code",
   "execution_count": 108,
   "metadata": {
    "colab": {
     "base_uri": "https://localhost:8080/"
    },
    "id": "BL6VPHmwmi6Q",
    "outputId": "cdf3e95d-7610-4c5f-d891-98ce747813bf"
   },
   "outputs": [
    {
     "name": "stdout",
     "output_type": "stream",
     "text": [
      "xgboost prediction progress: |███████████████████████████████████████████████████| (done) 100%\n"
     ]
    }
   ],
   "source": [
    "model = h2o.get_model('XGBoost_grid_1_AutoML_3_20220304_202900_model_4')\n",
    "y_pred = pd.DataFrame(model.predict(test_usc)[0].as_data_frame().values)"
   ]
  },
  {
   "cell_type": "code",
   "execution_count": 109,
   "metadata": {
    "colab": {
     "base_uri": "https://localhost:8080/"
    },
    "id": "QdevtvbhoNKR",
    "outputId": "9faa0086-9c5c-4e1c-a0d6-432696765203"
   },
   "outputs": [
    {
     "name": "stdout",
     "output_type": "stream",
     "text": [
      "Mean Squared Error: 0.9926590833773318\n",
      "Mean Absolute Error: 0.7061981139897315\n",
      "Median Absolute Error: 0.5405715312782617\n"
     ]
    }
   ],
   "source": [
    "# TO DO: check testing set performance\n",
    "import sklearn.metrics as metrics\n",
    "print('Mean Squared Error:', metrics.mean_squared_error(y_test_usc, y_pred))\n",
    "print('Mean Absolute Error:', metrics.mean_absolute_error(y_test_usc, y_pred))\n",
    "print('Median Absolute Error:', metrics.median_absolute_error(y_test_usc, y_pred))"
   ]
  },
  {
   "cell_type": "code",
   "execution_count": 110,
   "metadata": {
    "colab": {
     "base_uri": "https://localhost:8080/",
     "height": 583
    },
    "id": "SKllQxd-oNNN",
    "outputId": "51b3dcc2-5db9-4ef4-8129-be649547aece"
   },
   "outputs": [
    {
     "data": {
      "image/png": "[encoded data removed]",
      "text/plain": [
       "<Figure size 1152x648 with 1 Axes>"
      ]
     },
     "metadata": {
      "needs_background": "light"
     },
     "output_type": "display_data"
    }
   ],
   "source": [
    "# TO DO: plot learning curve\n",
    "learning_curve_plot = model.learning_curve_plot()"
   ]
  },
  {
   "cell_type": "code",
   "execution_count": 111,
   "metadata": {
    "colab": {
     "base_uri": "https://localhost:8080/",
     "height": 630
    },
    "id": "1rjR8bhhoNP0",
    "outputId": "fed224dc-6d4f-4aaa-c5c3-2bd42f7527d2"
   },
   "outputs": [
    {
     "data": {
      "image/png": "[encoded data removed]",
      "text/plain": [
       "<Figure size 1008x720 with 1 Axes>"
      ]
     },
     "metadata": {
      "needs_background": "light"
     },
     "output_type": "display_data"
    },
    {
     "data": {
      "text/plain": [
       "<Figure size 432x288 with 0 Axes>"
      ]
     },
     "metadata": {},
     "output_type": "display_data"
    }
   ],
   "source": [
    "# TO DO: plot features importance\n",
    "ra_plot = model.varimp_plot()"
   ]
  },
  {
   "cell_type": "markdown",
   "metadata": {
    "id": "6vEsoj-npmg_"
   },
   "source": [
    "### Random Forest"
   ]
  },
  {
   "cell_type": "code",
   "execution_count": 112,
   "metadata": {
    "colab": {
     "base_uri": "https://localhost:8080/"
    },
    "id": "zK9XlZMHpmnn",
    "outputId": "e4fb224a-4693-48bd-e4b8-06521180a883"
   },
   "outputs": [
    {
     "name": "stdout",
     "output_type": "stream",
     "text": [
      "drf prediction progress: |███████████████████████████████████████████████████████| (done) 100%\n"
     ]
    }
   ],
   "source": [
    "model = h2o.get_model('DRF_1_AutoML_3_20220304_202900')\n",
    "y_pred = pd.DataFrame(model.predict(test_usc)[0].as_data_frame().values)"
   ]
  },
  {
   "cell_type": "code",
   "execution_count": 113,
   "metadata": {
    "colab": {
     "base_uri": "https://localhost:8080/"
    },
    "id": "DU0P6G3apmqm",
    "outputId": "d83b0fdb-15a1-436e-9552-c7bc1f4abd9e"
   },
   "outputs": [
    {
     "name": "stdout",
     "output_type": "stream",
     "text": [
      "Mean Squared Error: 0.9878338743084581\n",
      "Mean Absolute Error: 0.7055478693474305\n",
      "Median Absolute Error: 0.5401540962742152\n"
     ]
    }
   ],
   "source": [
    "# TO DO: check testing set performance\n",
    "import sklearn.metrics as metrics\n",
    "print('Mean Squared Error:', metrics.mean_squared_error(y_test_usc, y_pred))\n",
    "print('Mean Absolute Error:', metrics.mean_absolute_error(y_test_usc, y_pred))\n",
    "print('Median Absolute Error:', metrics.median_absolute_error(y_test_usc, y_pred))"
   ]
  },
  {
   "cell_type": "markdown",
   "metadata": {
    "id": "77DRGkPWoOqO"
   },
   "source": [
    "### KNN"
   ]
  },
  {
   "cell_type": "code",
   "execution_count": 114,
   "metadata": {
    "colab": {
     "base_uri": "https://localhost:8080/"
    },
    "id": "TFQbRzlVoNST",
    "outputId": "6bab0e3e-cc6a-4456-9aff-399284830c35"
   },
   "outputs": [
    {
     "data": {
      "text/plain": [
       "KNeighborsRegressor(n_neighbors=100)"
      ]
     },
     "execution_count": 114,
     "metadata": {},
     "output_type": "execute_result"
    }
   ],
   "source": [
    "# TO DO: implement 5-fold cross-validation for parameter tuning\n",
    "from sklearn.neighbors import KNeighborsRegressor\n",
    "from sklearn.model_selection import RandomizedSearchCV, GridSearchCV # RandomizedSearchCV is faster\n",
    "\n",
    "param_dist = {'n_neighbors': [5, 10, 30, 50, 70, 100]}\n",
    "regressor = KNeighborsRegressor()\n",
    "grid = GridSearchCV(regressor, param_dist, cv = 5, scoring = 'neg_mean_absolute_error', n_jobs = -1)\n",
    "\n",
    "grid.fit(X_train_usc, y_train_usc) # no need for normalization\n",
    "grid.best_estimator_"
   ]
  },
  {
   "cell_type": "code",
   "execution_count": 115,
   "metadata": {
    "id": "wjQhR_ERoaR4"
   },
   "outputs": [],
   "source": [
    "# TO DO: train the model with optimal parameters\n",
    "regressor_knn = KNeighborsRegressor(n_neighbors=100)\n",
    "regressor_knn.fit(X_train_usc, y_train_usc)\n",
    "y_pred = regressor_knn.predict(X_test_usc)"
   ]
  },
  {
   "cell_type": "code",
   "execution_count": 116,
   "metadata": {
    "colab": {
     "base_uri": "https://localhost:8080/"
    },
    "id": "XQIi2oBdoaVR",
    "outputId": "96e09c6a-f1e2-4dd8-e0ee-d202b4eed8df"
   },
   "outputs": [
    {
     "name": "stdout",
     "output_type": "stream",
     "text": [
      "Mean Squared Error: 0.9845469081759427\n",
      "Mean Absolute Error: 0.7071337127751335\n",
      "Median Absolute Error: 0.5477331587047735\n"
     ]
    }
   ],
   "source": [
    "# TO DO: check testing set performance\n",
    "import sklearn.metrics as metrics\n",
    "print('Mean Squared Error:', metrics.mean_squared_error(y_test_usc, y_pred))\n",
    "print('Mean Absolute Error:', metrics.mean_absolute_error(y_test_usc, y_pred))\n",
    "print('Median Absolute Error:', metrics.median_absolute_error(y_test_usc, y_pred))"
   ]
  },
  {
   "cell_type": "code",
   "execution_count": null,
   "metadata": {
    "id": "x6uoLWABoaYy"
   },
   "outputs": [],
   "source": []
  },
  {
   "cell_type": "markdown",
   "metadata": {
    "id": "T3k_cj3CokNY"
   },
   "source": [
    "### Support Vector Regression (SVR)"
   ]
  },
  {
   "cell_type": "code",
   "execution_count": 117,
   "metadata": {
    "colab": {
     "base_uri": "https://localhost:8080/"
    },
    "id": "NSeeA7utolyu",
    "outputId": "3a04fb36-c99e-4f70-a038-76ef044597ec"
   },
   "outputs": [
    {
     "data": {
      "text/plain": [
       "SVR(C=0.1, gamma=0.005649717514124294)"
      ]
     },
     "execution_count": 117,
     "metadata": {},
     "output_type": "execute_result"
    }
   ],
   "source": [
    "# TO DO: implement 5-fold cross-validation for parameter tuning\n",
    "from sklearn.svm import SVR\n",
    "from sklearn.model_selection import RandomizedSearchCV, GridSearchCV # RandomizedSearchCV is faster\n",
    "\n",
    "param_dist = {'C': [0.1, 0.5, 1]}\n",
    "regressor_svr = SVR(kernel='rbf',gamma=1/X_train_usc.shape[1])\n",
    "grid = GridSearchCV(regressor_svr, param_dist, cv = 5, scoring = 'neg_mean_absolute_error', n_jobs = -1)\n",
    "\n",
    "grid.fit(X_train_usc, y_train_usc)\n",
    "grid.best_estimator_"
   ]
  },
  {
   "cell_type": "code",
   "execution_count": 118,
   "metadata": {
    "id": "5LnuavoKqYqE"
   },
   "outputs": [],
   "source": [
    "# TO DO: train the model with optimal parameters\n",
    "regressor_svr = SVR(C=0.1, kernel='rbf', gamma=1/X_train_usc.shape[1])\n",
    "regressor_svr.fit(X_train_usc, y_train_usc)\n",
    "y_pred = regressor_svr.predict(X_test_usc)"
   ]
  },
  {
   "cell_type": "code",
   "execution_count": 119,
   "metadata": {
    "colab": {
     "base_uri": "https://localhost:8080/"
    },
    "id": "I72I7My3qYto",
    "outputId": "d7be0df8-3e3b-45fa-a396-70e7edd15b9d"
   },
   "outputs": [
    {
     "name": "stdout",
     "output_type": "stream",
     "text": [
      "Mean Squared Error: 1.0518088884251604\n",
      "Mean Absolute Error: 0.6634610803451184\n",
      "Median Absolute Error: 0.4215077149748766\n"
     ]
    }
   ],
   "source": [
    "# TO DO: check testing set performance\n",
    "import sklearn.metrics as metrics\n",
    "print('Mean Squared Error:', metrics.mean_squared_error(y_test_usc, y_pred))\n",
    "print('Mean Absolute Error:', metrics.mean_absolute_error(y_test_usc, y_pred))\n",
    "print('Median Absolute Error:', metrics.median_absolute_error(y_test_usc, y_pred))"
   ]
  },
  {
   "cell_type": "code",
   "execution_count": null,
   "metadata": {},
   "outputs": [],
   "source": [
    "# TO DO: output the predictions\n",
    "y_pred_svr_usc = y_pred\n",
    "pd.DataFrame(y_pred_svr_usc).to_csv('y_pred_svr_usc.csv')"
   ]
  }
 ],
 "metadata": {
  "accelerator": "GPU",
  "colab": {
   "background_execution": "on",
   "collapsed_sections": [],
   "machine_shape": "hm",
   "name": "03 Predictive Modelling.ipynb",
   "provenance": []
  },
  "kernelspec": {
   "display_name": "Python 3",
   "language": "python",
   "name": "python3"
  },
  "language_info": {
   "codemirror_mode": {
    "name": "ipython",
    "version": 3
   },
   "file_extension": ".py",
   "mimetype": "text/x-python",
   "name": "python",
   "nbconvert_exporter": "python",
   "pygments_lexer": "ipython3",
   "version": "3.7.6"
  },
  "toc": {
   "base_numbering": 1,
   "nav_menu": {},
   "number_sections": true,
   "sideBar": true,
   "skip_h1_title": false,
   "title_cell": "Table of Contents",
   "title_sidebar": "Contents",
   "toc_cell": true,
   "toc_position": {},
   "toc_section_display": true,
   "toc_window_display": false
  }
 },
 "nbformat": 4,
 "nbformat_minor": 1
}
